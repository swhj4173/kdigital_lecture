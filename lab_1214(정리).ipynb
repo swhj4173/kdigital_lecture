{
 "cells": [
  {
   "cell_type": "code",
   "execution_count": 1,
   "metadata": {},
   "outputs": [
    {
     "name": "stdout",
     "output_type": "stream",
     "text": [
      "15\n"
     ]
    }
   ],
   "source": [
    "def calc(*numbers) :\n",
    "    tot = 0\n",
    "    for n in numbers :\n",
    "        tot +=n\n",
    "    return  tot\n",
    "sum = calc(1,2,3,4,5)\n",
    "print(sum)"
   ]
  },
  {
   "cell_type": "code",
   "execution_count": 2,
   "metadata": {},
   "outputs": [
    {
     "name": "stdout",
     "output_type": "stream",
     "text": [
      "120\n"
     ]
    }
   ],
   "source": [
    "def calc(*numbers) :\n",
    "    total = 1\n",
    "    for n in numbers :\n",
    "        total *=n\n",
    "    return total\n",
    "multiple = calc(1,2,3,4,5)\n",
    "print(multiple)"
   ]
  },
  {
   "cell_type": "code",
   "execution_count": 3,
   "metadata": {},
   "outputs": [
    {
     "name": "stdout",
     "output_type": "stream",
     "text": [
      "15\n",
      "120\n"
     ]
    }
   ],
   "source": [
    "def calc(operator, *nums) :\n",
    "    sum =0\n",
    "    for num in nums :\n",
    "        if operator == \"+\" :\n",
    "            sum +=num\n",
    "        elif operator ==\"*\" :\n",
    "            if sum ==0 :\n",
    "                sum=1\n",
    "            sum *=num\n",
    "    return sum\n",
    "\n",
    "result = calc(\"+\",1,2,3,4,5)\n",
    "print(result)\n",
    "result  = calc(\"*\",1,2,3,4,5)\n",
    "print(result)"
   ]
  },
  {
   "cell_type": "code",
   "execution_count": 4,
   "metadata": {},
   "outputs": [
    {
     "name": "stdout",
     "output_type": "stream",
     "text": [
      "30\n",
      "-10\n",
      "200\n",
      "0.5\n"
     ]
    }
   ],
   "source": [
    "def calc(operator,num1,num2) :\n",
    "    ret = 0\n",
    "    if operator == \"+\" :\n",
    "        ret = num1+num2\n",
    "        \n",
    "    elif operator == \"-\" :\n",
    "        ret = num1-num2\n",
    "        \n",
    "    elif operator == \"*\" :\n",
    "        ret = num1 * num2\n",
    "        \n",
    "    elif operator == \"/\" :\n",
    "        ret = num1/num2\n",
    "        \n",
    "        \n",
    "    return ret\n",
    "result = calc(\"+\",10,20)\n",
    "print(result)\n",
    "result = calc(\"-\",10,20)\n",
    "print(result)\n",
    "result = calc(\"*\",10,20)\n",
    "print(result)\n",
    "result = calc(\"/\",10,20)\n",
    "print(result)\n"
   ]
  },
  {
   "cell_type": "code",
   "execution_count": 5,
   "metadata": {},
   "outputs": [
    {
     "name": "stdout",
     "output_type": "stream",
     "text": [
      "15\n"
     ]
    }
   ],
   "source": [
    "def f_sum(n) :\n",
    "    if n == 0 :\n",
    "        return 0\n",
    "    return n + f_sum(n-1)\n",
    "sum = f_sum(5)\n",
    "print(sum)"
   ]
  },
  {
   "cell_type": "markdown",
   "metadata": {},
   "source": [
    "# p.124 실습 02"
   ]
  },
  {
   "cell_type": "code",
   "execution_count": 13,
   "metadata": {},
   "outputs": [],
   "source": [
    "def display_all() : \n",
    "    for i, user in enumerate(scores) :\n",
    "        print(f\"[{i}] 이름 : {user['이름']}, 수학 : {user['수학']}, 과학 : {user['과학']}, 영어 : {user['영어']}\")"
   ]
  },
  {
   "cell_type": "code",
   "execution_count": 15,
   "metadata": {},
   "outputs": [
    {
     "name": "stdout",
     "output_type": "stream",
     "text": [
      "메뉴를 선택해주세요 1 - 입력, 2 - 조회, 3 - 삭제, 0 - 종료 : 1\n",
      "이름 강다영\n",
      "수학 20\n",
      "과학 320\n",
      "영어 40\n",
      "메뉴를 선택해주세요 1 - 입력, 2 - 조회, 3 - 삭제, 0 - 종료 : 2\n",
      "[0] 이름 : 강다영, 수학 : 90, 과학 : 80, 영어 : 70\n",
      "[1] 이름 : 강다영, 수학 : 20, 과학 : 30, 영어 : 20\n",
      "[2] 이름 : 강다영, 수학 : 20, 과학 : 320, 영어 : 40\n",
      "메뉴를 선택해주세요 1 - 입력, 2 - 조회, 3 - 삭제, 0 - 종료 : 0\n",
      "종료되었습니다\n"
     ]
    },
    {
     "data": {
      "text/plain": [
       "[{'이름': '강다영', '수학': 90, '과학': 80, '영어': 70},\n",
       " {'이름': '강다영', '수학': 20, '과학': 30, '영어': 20},\n",
       " {'이름': '강다영', '수학': 20, '과학': 320, '영어': 40}]"
      ]
     },
     "execution_count": 15,
     "metadata": {},
     "output_type": "execute_result"
    }
   ],
   "source": [
    "import pickle\n",
    "import os.path\n",
    "\n",
    "\n",
    "\n",
    "\n",
    "if os.path.exists(\"scores.pkl\") :\n",
    "    with open(\"scores.pkl\",\"rb\") as file :\n",
    "        scores = pickle.load(file)\n",
    "else : \n",
    "    scores = []\n",
    "    \n",
    "menu = 1\n",
    "    \n",
    "while menu !=0 :\n",
    "    menu = int(input(\"메뉴를 선택해주세요 1 - 입력, 2 - 조회, 3 - 삭제, 0 - 종료 : \"))\n",
    "    if menu == 1 :\n",
    "        name = input(\"이름 \")\n",
    "        math = int(input(\"수학 \"))\n",
    "        science = int(input(\"과학 \"))\n",
    "        english = int(input(\"영어 \"))\n",
    "        \n",
    "        student = {\"이름\" : name, \"수학\": math, \"과학\" : science, \"영어\" : english}\n",
    "        scores.append(student)\n",
    "        \n",
    "    elif menu == 2 :\n",
    "        display_all()\n",
    "        \n",
    "    elif menu == 3 :\n",
    "        display_all()\n",
    "        \n",
    "        del_index = int(input(\"삭제할 번호를 입력해주세요 : \"))\n",
    "        scores.pop(del_index)\n",
    "        print(\"삭제가 완료되었습니다.\")\n",
    "    \n",
    "    elif menu == 0 :\n",
    "        with open(\"scores.pkl\", \"wb\") as file :\n",
    "            pickle.dump(scores, file)\n",
    "            print(\"종료되었습니다\")\n",
    "            \n",
    "        break\n",
    "scores"
   ]
  },
  {
   "cell_type": "code",
   "execution_count": 16,
   "metadata": {},
   "outputs": [
    {
     "name": "stdout",
     "output_type": "stream",
     "text": [
      "1\n",
      "2\n",
      "3\n",
      "4\n"
     ]
    }
   ],
   "source": [
    "def f_number(n) :\n",
    "    if n == 0 :\n",
    "        return\n",
    "    \n",
    "    f_number(int(n/10))\n",
    "    print(n%10)\n",
    "    \n",
    "f_number(1234)"
   ]
  },
  {
   "cell_type": "code",
   "execution_count": 17,
   "metadata": {},
   "outputs": [
    {
     "data": {
      "text/plain": [
       "[1, 0, 0, 0, 5, 0, 7, 0, 0, 0]"
      ]
     },
     "execution_count": 17,
     "metadata": {},
     "output_type": "execute_result"
    }
   ],
   "source": [
    "a = [1,2,3,4,5,6,7,8,9,10]\n",
    "\n",
    "list(map(lambda x : 0 if x %2==0 or x%3==0 else x ,a))"
   ]
  },
  {
   "cell_type": "code",
   "execution_count": 18,
   "metadata": {},
   "outputs": [],
   "source": [
    "numbers = [12,32,55,12,32,4,86,50]"
   ]
  },
  {
   "cell_type": "code",
   "execution_count": 21,
   "metadata": {},
   "outputs": [
    {
     "data": {
      "text/plain": [
       "['불합격', '불합격', '대기', '불합격', '불합격', '불합격', '합격', '대기']"
      ]
     },
     "execution_count": 21,
     "metadata": {},
     "output_type": "execute_result"
    }
   ],
   "source": [
    "list(map(lambda x : \"합격\" if x>60 else \"대기\" if x>=50 else \"불합격\", numbers))"
   ]
  },
  {
   "cell_type": "code",
   "execution_count": 22,
   "metadata": {},
   "outputs": [],
   "source": [
    "files = [\"memo.txt\", \"1.jpg\", \"32.png\", \"23.jpg\", \"223.jpg\"]"
   ]
  },
  {
   "cell_type": "code",
   "execution_count": 23,
   "metadata": {},
   "outputs": [
    {
     "data": {
      "text/plain": [
       "-1"
      ]
     },
     "execution_count": 23,
     "metadata": {},
     "output_type": "execute_result"
    }
   ],
   "source": [
    "\"50보다 작으면 불합격이 들어간 리스틀르 만드세요\".find(\"라스트\")"
   ]
  },
  {
   "cell_type": "code",
   "execution_count": 24,
   "metadata": {},
   "outputs": [
    {
     "data": {
      "text/plain": [
       "['1.jpg', '23.jpg', '223.jpg']"
      ]
     },
     "execution_count": 24,
     "metadata": {},
     "output_type": "execute_result"
    }
   ],
   "source": [
    "list(filter(lambda x : x.find(\".jpg\")>-1,files))"
   ]
  },
  {
   "cell_type": "code",
   "execution_count": null,
   "metadata": {},
   "outputs": [],
   "source": []
  }
 ],
 "metadata": {
  "kernelspec": {
   "display_name": "Python 3",
   "language": "python",
   "name": "python3"
  },
  "language_info": {
   "codemirror_mode": {
    "name": "ipython",
    "version": 3
   },
   "file_extension": ".py",
   "mimetype": "text/x-python",
   "name": "python",
   "nbconvert_exporter": "python",
   "pygments_lexer": "ipython3",
   "version": "3.8.5"
  }
 },
 "nbformat": 4,
 "nbformat_minor": 4
}
