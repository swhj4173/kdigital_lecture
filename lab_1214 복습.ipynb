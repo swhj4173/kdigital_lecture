{
 "cells": [
  {
   "cell_type": "code",
   "execution_count": 4,
   "metadata": {},
   "outputs": [],
   "source": [
    "def display_all() :\n",
    "    for i, user in enumerate(scores) :\n",
    "        print(f\"[{i}] 이름 : {user['이름']}, 수학 : {user['수학']}, 과학 :{user['과학']}, 영어 : {user['영어']}\")\n",
    "              "
   ]
  },
  {
   "cell_type": "code",
   "execution_count": 6,
   "metadata": {},
   "outputs": [
    {
     "ename": "EOFError",
     "evalue": "Ran out of input",
     "output_type": "error",
     "traceback": [
      "\u001b[1;31m---------------------------------------------------------------------------\u001b[0m",
      "\u001b[1;31mEOFError\u001b[0m                                  Traceback (most recent call last)",
      "\u001b[1;32m<ipython-input-6-39e720a366da>\u001b[0m in \u001b[0;36m<module>\u001b[1;34m\u001b[0m\n\u001b[0;32m      6\u001b[0m \u001b[1;32mif\u001b[0m \u001b[0mos\u001b[0m\u001b[1;33m.\u001b[0m\u001b[0mpath\u001b[0m\u001b[1;33m.\u001b[0m\u001b[0mexists\u001b[0m\u001b[1;33m(\u001b[0m\u001b[0mfilename\u001b[0m\u001b[1;33m)\u001b[0m \u001b[1;33m:\u001b[0m\u001b[1;33m\u001b[0m\u001b[1;33m\u001b[0m\u001b[0m\n\u001b[0;32m      7\u001b[0m     \u001b[1;32mwith\u001b[0m \u001b[0mopen\u001b[0m\u001b[1;33m(\u001b[0m\u001b[0mfilename\u001b[0m\u001b[1;33m,\u001b[0m\u001b[1;34m\"rb\"\u001b[0m\u001b[1;33m)\u001b[0m \u001b[1;32mas\u001b[0m \u001b[0mf\u001b[0m \u001b[1;33m:\u001b[0m\u001b[1;33m\u001b[0m\u001b[1;33m\u001b[0m\u001b[0m\n\u001b[1;32m----> 8\u001b[1;33m         \u001b[0mscores\u001b[0m \u001b[1;33m=\u001b[0m \u001b[0mpickle\u001b[0m\u001b[1;33m.\u001b[0m\u001b[0mload\u001b[0m\u001b[1;33m(\u001b[0m\u001b[0mf\u001b[0m\u001b[1;33m)\u001b[0m\u001b[1;33m\u001b[0m\u001b[1;33m\u001b[0m\u001b[0m\n\u001b[0m\u001b[0;32m      9\u001b[0m \u001b[1;33m\u001b[0m\u001b[0m\n\u001b[0;32m     10\u001b[0m \u001b[1;32mwhile\u001b[0m \u001b[0mmenu\u001b[0m \u001b[1;33m!=\u001b[0m\u001b[1;36m0\u001b[0m \u001b[1;33m:\u001b[0m\u001b[1;33m\u001b[0m\u001b[1;33m\u001b[0m\u001b[0m\n",
      "\u001b[1;31mEOFError\u001b[0m: Ran out of input"
     ]
    }
   ],
   "source": [
    "import pickle\n",
    "import os.path\n",
    "\n",
    "filename = \"scores.pkl\"\n",
    "\n",
    "if os.path.exists(filename) :\n",
    "    with open(filename,\"rb\") as f :\n",
    "        scores = pickle.load(f)\n",
    "\n",
    "while menu !=0 :\n",
    "    menu = int(input(\"메뉴를 선택해주세요 1 - 입력, 2 - 조회, 3 - 삭제, 0 - 종료 : \"))\n",
    "    if menu ==1 :\n",
    "        name = input(\"이름\")\n",
    "        math = input(\"수학\")\n",
    "        science = input(\"과학\")\n",
    "        english = input(\"영어\")\n",
    "        \n",
    "        student = {\"이름\" : name, \"수학\" : math, \"과학\" : science, \"영어\" : english}\n",
    "        scores.append(student)\n",
    "        \n",
    "    elif menu ==2 :\n",
    "        display_all()\n",
    "        \n",
    "    elif menu ==3 :\n",
    "        display_all()\n",
    "        del_index = int(input(\"삭제할 번호를 입력해주세요 : \"))\n",
    "        scores.pop(del_index)\n",
    "        print(\"삭제가 완료되었습니다.\")\n",
    "        \n",
    "    elif menu == 0 :\n",
    "        with open(\"scores.pkl\", \"wb\") as file :\n",
    "            pickle.dump(scores,file)\n",
    "            print(\"종료되었습니다.\")\n",
    "            \n",
    "        break\n",
    "\n",
    "scores"
   ]
  },
  {
   "cell_type": "code",
   "execution_count": 10,
   "metadata": {},
   "outputs": [
    {
     "name": "stdout",
     "output_type": "stream",
     "text": [
      "15\n",
      "120\n"
     ]
    }
   ],
   "source": [
    "def calc(operator, *nums) :\n",
    "    sum = 0\n",
    "    for num in nums :\n",
    "        if operator == \"+\" :\n",
    "            sum += num\n",
    "        elif operator == \"*\" :\n",
    "            if sum == 0 :\n",
    "                sum = 1\n",
    "            sum *= num\n",
    "    return sum\n",
    "result = calc(\"+\", 1,2,3,4,5)\n",
    "print(result)\n",
    "result = calc(\"*\", 1,2,3,4,5)\n",
    "print(result)"
   ]
  },
  {
   "cell_type": "code",
   "execution_count": 11,
   "metadata": {},
   "outputs": [
    {
     "name": "stdout",
     "output_type": "stream",
     "text": [
      "재귀함수!\n",
      "재귀함수!\n",
      "재귀함수!\n",
      "재귀함수!\n",
      "재귀함수!\n"
     ]
    }
   ],
   "source": [
    "def test(end) :\n",
    "    if end ==0 :\n",
    "        return\n",
    "    print(\"재귀함수!\")\n",
    "    end -=1\n",
    "    test(end)\n",
    "    \n",
    "test(5)"
   ]
  },
  {
   "cell_type": "code",
   "execution_count": 12,
   "metadata": {},
   "outputs": [
    {
     "data": {
      "text/plain": [
       "120"
      ]
     },
     "execution_count": 12,
     "metadata": {},
     "output_type": "execute_result"
    }
   ],
   "source": [
    "def factorial(n) :\n",
    "    if n ==1 :\n",
    "        return 1\n",
    "    return n * factorial(n-1)\n",
    "\n",
    "factorial(5)"
   ]
  },
  {
   "cell_type": "code",
   "execution_count": 13,
   "metadata": {},
   "outputs": [
    {
     "data": {
      "text/plain": [
       "15"
      ]
     },
     "execution_count": 13,
     "metadata": {},
     "output_type": "execute_result"
    }
   ],
   "source": [
    "def f_sum(n) :\n",
    "    if n == 1 :\n",
    "        return 1\n",
    "    return n + f_sum(n-1)\n",
    "\n",
    "f_sum(5)"
   ]
  },
  {
   "cell_type": "code",
   "execution_count": 14,
   "metadata": {},
   "outputs": [
    {
     "name": "stdout",
     "output_type": "stream",
     "text": [
      "1\n",
      "2\n",
      "3\n",
      "4\n"
     ]
    }
   ],
   "source": [
    "def f_number(n) :\n",
    "    if n == 0 :\n",
    "        return\n",
    "    f_number(int(n/10))\n",
    "    print(n%10)\n",
    "f_number(1234)"
   ]
  },
  {
   "cell_type": "code",
   "execution_count": 15,
   "metadata": {},
   "outputs": [
    {
     "data": {
      "text/plain": [
       "['불합격', '불합격', '대기', '불합격', '불합격', '불합격', '합격', '대기']"
      ]
     },
     "execution_count": 15,
     "metadata": {},
     "output_type": "execute_result"
    }
   ],
   "source": [
    "numbers = [12,32,55,12,32,4,86,50]\n",
    "list(map(lambda x : \"합격\" if x >60 else \"대기\" if 50<=x<=60 else \"불합격\", numbers))"
   ]
  },
  {
   "cell_type": "code",
   "execution_count": 17,
   "metadata": {},
   "outputs": [
    {
     "data": {
      "text/plain": [
       "['1.jpg', '223.jpg']"
      ]
     },
     "execution_count": 17,
     "metadata": {},
     "output_type": "execute_result"
    }
   ],
   "source": [
    "files = [\"memo.txt\", \"1.jpg\", \"32.png\", \"23.png\", \"223.jpg\"]\n",
    "\"50보다 작으면 불합격이 들어간 리스트를 만드세요\".find(\"리스트\")\n",
    "list(filter(lambda x : x.find(\".jpg\")>-1, files))\n",
    "#\"50보다 작으면 불합격이 들어간 리스트를 만드세요\".find(\"리스트\") 이문구는 어떻게 만듦?\n"
   ]
  },
  {
   "cell_type": "code",
   "execution_count": null,
   "metadata": {},
   "outputs": [],
   "source": []
  }
 ],
 "metadata": {
  "kernelspec": {
   "display_name": "Python 3",
   "language": "python",
   "name": "python3"
  },
  "language_info": {
   "codemirror_mode": {
    "name": "ipython",
    "version": 3
   },
   "file_extension": ".py",
   "mimetype": "text/x-python",
   "name": "python",
   "nbconvert_exporter": "python",
   "pygments_lexer": "ipython3",
   "version": "3.8.5"
  }
 },
 "nbformat": 4,
 "nbformat_minor": 4
}
