{
 "cells": [
  {
   "cell_type": "code",
   "execution_count": 90,
   "metadata": {},
   "outputs": [],
   "source": [
    "class Dog :\n",
    "    def __init__(self,name,color) :\n",
    "        self.hungry = 0\n",
    "        self.name = name\n",
    "        self.color = color\n",
    "    def eat(self) :\n",
    "        self.hungry -=10\n",
    "        print(\"밥먹음\", self.hungry)\n",
    "    def walk(self) :\n",
    "        self.hungry +=10\n",
    "        print(\"산책\", self.hungry)"
   ]
  },
  {
   "cell_type": "code",
   "execution_count": 91,
   "metadata": {},
   "outputs": [],
   "source": [
    "choco = Dog(\"choco\",\"black\")\n"
   ]
  },
  {
   "cell_type": "code",
   "execution_count": 92,
   "metadata": {},
   "outputs": [
    {
     "name": "stdout",
     "output_type": "stream",
     "text": [
      "밥먹음 -10\n"
     ]
    }
   ],
   "source": [
    "choco.eat()"
   ]
  },
  {
   "cell_type": "code",
   "execution_count": 17,
   "metadata": {},
   "outputs": [],
   "source": [
    "class Dog :\n",
    "    dog_count = 0\n",
    "    \n",
    "    def __init__(self,name,color):\n",
    "        self.name = name\n",
    "        self.color = color\n",
    "        Dog.dog_count+=1\n",
    "        \n",
    "    def dogCount(self) :\n",
    "        print(\"총 강아지는\", Dog.dog_count)"
   ]
  },
  {
   "cell_type": "code",
   "execution_count": 18,
   "metadata": {},
   "outputs": [
    {
     "name": "stdout",
     "output_type": "stream",
     "text": [
      "총 강아지는 1\n"
     ]
    }
   ],
   "source": [
    "hello = Dog(\"hello\", \"black\")\n",
    "hello.dogCount()"
   ]
  },
  {
   "cell_type": "code",
   "execution_count": 60,
   "metadata": {},
   "outputs": [],
   "source": [
    "class Car :\n",
    "    carCount = 0\n",
    "    \n",
    "    def __init__(self,name,cc,year):\n",
    "        self.__name = name\n",
    "        self.__cc = cc\n",
    "        self.__year = year\n",
    "        Car.carCount +=1\n",
    "    def get_name(self):\n",
    "        print(\"차종은 {}입니다.\".format(self.__name))\n",
    "        \n",
    "    def change_name(self, new_name):\n",
    "        self.__name = new_name\n",
    "       \n",
    "    def show_cc(self):\n",
    "        if self.__cc <=1000 :\n",
    "            print(\"소형\")\n",
    "        elif self.__cc <=2000:  \n",
    "            print(\"중형\")\n",
    "        else :\n",
    "            print(\"대형\")\n",
    "            \n",
    "    def get_total_cars():\n",
    "        print(\"총 등록된 차량개수 : \", Car.carCount)"
   ]
  },
  {
   "cell_type": "code",
   "execution_count": 61,
   "metadata": {},
   "outputs": [],
   "source": [
    "i30 = Car(\"i30\", 1800,2000)\n",
    "benz = Car(\"benz\", 3000, 2015)\n",
    "kia = Car(\"morning\",900,2020)"
   ]
  },
  {
   "cell_type": "code",
   "execution_count": 62,
   "metadata": {
    "scrolled": true
   },
   "outputs": [
    {
     "name": "stdout",
     "output_type": "stream",
     "text": [
      "차종은 i30입니다\n"
     ]
    }
   ],
   "source": [
    "hyundai.get_name()"
   ]
  },
  {
   "cell_type": "code",
   "execution_count": 57,
   "metadata": {},
   "outputs": [],
   "source": [
    "class Car:\n",
    "    carCount = 0\n",
    "    \n",
    "    def __init__(self, name, volume, year):\n",
    "        self.__name = name\n",
    "        self.__volume = volume\n",
    "        self.__year = year\n",
    "        Car.carCount += 1\n",
    "    \n",
    "    def get_name(self):\n",
    "        print(\"차종은 {}입니다\".format(self.__name))\n",
    "        \n",
    "    def change_name(self, new_name):\n",
    "        self.__name = new_name\n",
    "        \n",
    "    def show_volume(self):\n",
    "        if self.__volume < 1000:\n",
    "            print(\"소형\")\n",
    "        elif self.__volume <= 2000:\n",
    "            print(\"중형\")\n",
    "        else:\n",
    "            print(\"대형\")\n",
    "    \n",
    "    @classmethod\n",
    "    def get_total_cars(cls):\n",
    "        print(\"총 등록된 차량개수 : \", Car.carCount)"
   ]
  },
  {
   "cell_type": "code",
   "execution_count": 58,
   "metadata": {},
   "outputs": [],
   "source": [
    "hyundai = Car(\"i30\", 1800, 2000)\n",
    "benz = Car(\"benz\", 3000, 2015)\n",
    "kia = Car(\"morning\", 900, 2020)"
   ]
  },
  {
   "cell_type": "code",
   "execution_count": 59,
   "metadata": {},
   "outputs": [
    {
     "name": "stdout",
     "output_type": "stream",
     "text": [
      "차종은 i30입니다\n"
     ]
    }
   ],
   "source": [
    "hyundai.get_name()"
   ]
  },
  {
   "cell_type": "code",
   "execution_count": 33,
   "metadata": {},
   "outputs": [],
   "source": [
    "class robot :\n",
    "    name = \"robot\"\n",
    "    def info(self):\n",
    "        print('나의 이름은', self.name, '입니다!')\n"
   ]
  },
  {
   "cell_type": "code",
   "execution_count": 34,
   "metadata": {},
   "outputs": [],
   "source": [
    "r = robot()"
   ]
  },
  {
   "cell_type": "code",
   "execution_count": 35,
   "metadata": {},
   "outputs": [
    {
     "name": "stdout",
     "output_type": "stream",
     "text": [
      "나의 이름은 robot 입니다!\n"
     ]
    }
   ],
   "source": [
    "r.info()"
   ]
  },
  {
   "cell_type": "code",
   "execution_count": 36,
   "metadata": {},
   "outputs": [
    {
     "data": {
      "text/plain": [
       "'robot'"
      ]
     },
     "execution_count": 36,
     "metadata": {},
     "output_type": "execute_result"
    }
   ],
   "source": [
    "r.name"
   ]
  },
  {
   "cell_type": "code",
   "execution_count": 37,
   "metadata": {},
   "outputs": [
    {
     "data": {
      "text/plain": [
       "False"
      ]
     },
     "execution_count": 37,
     "metadata": {},
     "output_type": "execute_result"
    }
   ],
   "source": [
    "isinstance(r,int)"
   ]
  },
  {
   "cell_type": "code",
   "execution_count": 38,
   "metadata": {},
   "outputs": [
    {
     "data": {
      "text/plain": [
       "True"
      ]
     },
     "execution_count": 38,
     "metadata": {},
     "output_type": "execute_result"
    }
   ],
   "source": [
    "isinstance(r,robot)"
   ]
  },
  {
   "cell_type": "code",
   "execution_count": 43,
   "metadata": {},
   "outputs": [],
   "source": [
    "class robot :\n",
    "    name = \"robot\"\n",
    "    age = 0\n",
    "    def __init__(self,name,age):\n",
    "        print('생성자 호출!')\n",
    "        self.name = name\n",
    "        self.age = age\n",
    "        \n",
    "    def __del__(self):\n",
    "        print('소멸자 호출!')\n",
    "        \n",
    "    def info(self):\n",
    "        print('나의 이름은', self.name, '입니다!')\n",
    "        print('나이는', self.age, '입니다!')"
   ]
  },
  {
   "cell_type": "code",
   "execution_count": 40,
   "metadata": {},
   "outputs": [
    {
     "name": "stdout",
     "output_type": "stream",
     "text": [
      "생성자 호출!\n"
     ]
    }
   ],
   "source": [
    "r = robot('bill',7)"
   ]
  },
  {
   "cell_type": "code",
   "execution_count": 41,
   "metadata": {},
   "outputs": [
    {
     "name": "stdout",
     "output_type": "stream",
     "text": [
      "나의 이름은 bill 입니다!\n",
      "나이는 7 입니다!\n"
     ]
    }
   ],
   "source": [
    "r.info()"
   ]
  },
  {
   "cell_type": "code",
   "execution_count": 42,
   "metadata": {},
   "outputs": [
    {
     "name": "stdout",
     "output_type": "stream",
     "text": [
      "소멸자 호출!\n"
     ]
    }
   ],
   "source": [
    "del r"
   ]
  },
  {
   "cell_type": "code",
   "execution_count": 73,
   "metadata": {},
   "outputs": [],
   "source": [
    "class Animal :\n",
    "    def __init__(self):\n",
    "        self.hungry = 0\n",
    "        \n",
    "    def eat(self):\n",
    "        self.hungry -=10\n",
    "        print(\"밥먹음\",self.hungry)\n",
    "        \n",
    "    def walk(self):\n",
    "        self.hungry +=10\n",
    "        print(\"산책\",self.hungry)\n",
    "        "
   ]
  },
  {
   "cell_type": "code",
   "execution_count": 74,
   "metadata": {},
   "outputs": [],
   "source": [
    "class Dog(Animal):\n",
    "    def __init__(self):\n",
    "        super().__init__()\n",
    "        \n",
    "    def sound(self):\n",
    "        print(\"멍멍\")"
   ]
  },
  {
   "cell_type": "code",
   "execution_count": 75,
   "metadata": {},
   "outputs": [],
   "source": [
    "class Cat(Animal):\n",
    "    def __init__(self):\n",
    "        super().__init__()\n",
    "        \n",
    "    def sound(self):\n",
    "        print(\"야옹\")"
   ]
  },
  {
   "cell_type": "code",
   "execution_count": 76,
   "metadata": {},
   "outputs": [
    {
     "name": "stdout",
     "output_type": "stream",
     "text": [
      "멍멍\n"
     ]
    }
   ],
   "source": [
    "dog = Dog()\n",
    "dog.sound()"
   ]
  },
  {
   "cell_type": "code",
   "execution_count": 77,
   "metadata": {},
   "outputs": [
    {
     "name": "stdout",
     "output_type": "stream",
     "text": [
      "산책 10\n"
     ]
    }
   ],
   "source": [
    "dog.walk()"
   ]
  },
  {
   "cell_type": "code",
   "execution_count": 81,
   "metadata": {},
   "outputs": [
    {
     "name": "stdout",
     "output_type": "stream",
     "text": [
      "1.0\n",
      "1.1111111111111112\n",
      "1.25\n",
      "1.4285714285714286\n",
      "1.6666666666666667\n",
      "2.0\n",
      "2.5\n",
      "3.3333333333333335\n",
      "5.0\n",
      "10.0\n",
      "예외오류발생\n",
      "-10.0\n",
      "-5.0\n",
      "-3.3333333333333335\n",
      "-2.5\n",
      "-2.0\n",
      "-1.6666666666666667\n",
      "-1.4285714285714286\n",
      "-1.25\n",
      "-1.1111111111111112\n"
     ]
    }
   ],
   "source": [
    "for i in range(10,-10,-1):\n",
    "    try :\n",
    "        print(10/i)\n",
    "    except :\n",
    "        print(\"예외오류발생\")\n",
    "    "
   ]
  },
  {
   "cell_type": "code",
   "execution_count": 84,
   "metadata": {},
   "outputs": [
    {
     "name": "stdout",
     "output_type": "stream",
     "text": [
      "error :  list index out of range\n"
     ]
    }
   ],
   "source": [
    "x = [1,2,3]\n",
    "\n",
    "try :\n",
    "    a =x[4]\n",
    "except Exception as e:\n",
    "    print(\"error : \",e)"
   ]
  },
  {
   "cell_type": "code",
   "execution_count": 96,
   "metadata": {
    "scrolled": true
   },
   "outputs": [
    {
     "name": "stdout",
     "output_type": "stream",
     "text": [
      "file이 존재하지 않습니다.\n",
      "이름을 입력해주세요강다영\n",
      "주소을 입력해주세요192\n",
      "이메일을 입력해주세요dd@ddd\n",
      "파일이 생성되었습니다.\n"
     ]
    }
   ],
   "source": [
    "import pickle\n",
    "\n",
    "try :\n",
    "    with open(\"data3.p\",\"rb\") as file:\n",
    "        name = pickle.load(file)\n",
    "        address = pickle.load(file)\n",
    "        email = pickle.load(file)\n",
    "        print(name,address,email)\n",
    "    \n",
    "except FileNotFoundError as e :\n",
    "    print(\"file이 존재하지 않습니다.\")\n",
    "    name = input(\"이름을 입력해주세요\")\n",
    "    address = input(\"주소을 입력해주세요\")\n",
    "    email = input(\"이메일을 입력해주세요\")\n",
    "    \n",
    "    with open(\"data3.p\", \"wb\") as file :\n",
    "        pickle.dump(name, file)\n",
    "        pickle.dump(address, file)\n",
    "        pickle.dump(email, file)\n",
    "    print(\"파일이 생성되었습니다.\")"
   ]
  },
  {
   "cell_type": "code",
   "execution_count": 1,
   "metadata": {},
   "outputs": [
    {
     "name": "stdout",
     "output_type": "stream",
     "text": [
      "11\n"
     ]
    }
   ],
   "source": [
    "import calc\n",
    "\n",
    "print(calc.add(5,6))"
   ]
  },
  {
   "cell_type": "code",
   "execution_count": 2,
   "metadata": {},
   "outputs": [
    {
     "name": "stdout",
     "output_type": "stream",
     "text": [
      "11\n"
     ]
    }
   ],
   "source": [
    "from calc import add, sub\n",
    "print(add(5,6))\n"
   ]
  },
  {
   "cell_type": "code",
   "execution_count": 7,
   "metadata": {},
   "outputs": [
    {
     "name": "stdout",
     "output_type": "stream",
     "text": [
      "['C:\\\\Users\\\\lenovo\\\\kdigital', 'C:\\\\Users\\\\lenovo\\\\anaconda3\\\\python38.zip', 'C:\\\\Users\\\\lenovo\\\\anaconda3\\\\DLLs', 'C:\\\\Users\\\\lenovo\\\\anaconda3\\\\lib', 'C:\\\\Users\\\\lenovo\\\\anaconda3', '', 'C:\\\\Users\\\\lenovo\\\\anaconda3\\\\lib\\\\site-packages', 'C:\\\\Users\\\\lenovo\\\\anaconda3\\\\lib\\\\site-packages\\\\win32', 'C:\\\\Users\\\\lenovo\\\\anaconda3\\\\lib\\\\site-packages\\\\win32\\\\lib', 'C:\\\\Users\\\\lenovo\\\\anaconda3\\\\lib\\\\site-packages\\\\Pythonwin', 'C:\\\\Users\\\\lenovo\\\\anaconda3\\\\lib\\\\site-packages\\\\IPython\\\\extensions', 'C:\\\\Users\\\\lenovo\\\\.ipython']\n"
     ]
    }
   ],
   "source": [
    "import sys\n",
    "print(sys.path)"
   ]
  },
  {
   "cell_type": "code",
   "execution_count": 4,
   "metadata": {},
   "outputs": [
    {
     "name": "stdout",
     "output_type": "stream",
     "text": [
      "11\n"
     ]
    }
   ],
   "source": [
    "import pkcalc.calc as calc\n",
    "print(calc.add(5,6))"
   ]
  },
  {
   "cell_type": "code",
   "execution_count": 6,
   "metadata": {},
   "outputs": [
    {
     "name": "stdout",
     "output_type": "stream",
     "text": [
      "11\n"
     ]
    }
   ],
   "source": [
    "from pkcalc.calc import add, sub\n",
    "print(add(5,6))"
   ]
  },
  {
   "cell_type": "code",
   "execution_count": 8,
   "metadata": {},
   "outputs": [],
   "source": [
    "import numpy as np"
   ]
  },
  {
   "cell_type": "code",
   "execution_count": 9,
   "metadata": {},
   "outputs": [],
   "source": [
    "import pandas as pd"
   ]
  },
  {
   "cell_type": "code",
   "execution_count": 10,
   "metadata": {},
   "outputs": [],
   "source": [
    "matrix_1 = [[1,2],[3,4]]\n",
    "matrix_2 = [[5,6],[7,8]]"
   ]
  },
  {
   "cell_type": "code",
   "execution_count": 12,
   "metadata": {
    "scrolled": true
   },
   "outputs": [
    {
     "name": "stdout",
     "output_type": "stream",
     "text": [
      "6\n",
      "8\n",
      "10\n",
      "12\n",
      "[[6, 8], [10, 12]]\n"
     ]
    }
   ],
   "source": [
    "hap = []\n",
    "\n",
    "for i in range(2):\n",
    "    temp = []\n",
    "    for j in range(2):\n",
    "        print(matrix_1[i][j] + matrix_2[i][j])\n",
    "        temp.append(matrix_1[i][j] + matrix_2[i][j])\n",
    "    hap.append(temp)\n",
    "    \n",
    "print(hap)"
   ]
  },
  {
   "cell_type": "code",
   "execution_count": 16,
   "metadata": {},
   "outputs": [
    {
     "name": "stdout",
     "output_type": "stream",
     "text": [
      "2\n",
      "3\n",
      "4\n",
      "5\n",
      "[[2, 3], [4, 5]]\n"
     ]
    }
   ],
   "source": [
    "hap2 = []\n",
    "\n",
    "for i in range(2):\n",
    "    temp = []\n",
    "    for j in range(2) :\n",
    "        print(matrix_1[i][j] +1)\n",
    "        temp.append(matrix_1[i][j] +1)\n",
    "    hap2.append(temp)\n",
    "    \n",
    "print(hap2)"
   ]
  },
  {
   "cell_type": "code",
   "execution_count": 18,
   "metadata": {},
   "outputs": [],
   "source": [
    "matrix_1 = [[1,2],[3,4]]\n",
    "matrix_2 = [[5,6],[7,8]]"
   ]
  },
  {
   "cell_type": "code",
   "execution_count": 19,
   "metadata": {},
   "outputs": [
    {
     "name": "stdout",
     "output_type": "stream",
     "text": [
      "[[ 6  8]\n",
      " [10 12]]\n"
     ]
    }
   ],
   "source": [
    "met_sum = np.array(matrix_1) +np.array(matrix_2)\n",
    "print(met_sum)"
   ]
  },
  {
   "cell_type": "code",
   "execution_count": 20,
   "metadata": {},
   "outputs": [
    {
     "name": "stdout",
     "output_type": "stream",
     "text": [
      "[[2 3]\n",
      " [4 5]]\n"
     ]
    }
   ],
   "source": [
    "met_add = np.array(matrix_1) +1\n",
    "print(met_add)"
   ]
  },
  {
   "cell_type": "code",
   "execution_count": 25,
   "metadata": {},
   "outputs": [],
   "source": [
    "import time\n",
    "\n",
    "size = 10000000\n",
    "\n",
    "x = list(range(size))\n",
    "y = list(range(size))\n",
    "\n",
    "\n",
    "\n"
   ]
  },
  {
   "cell_type": "code",
   "execution_count": 24,
   "metadata": {},
   "outputs": [
    {
     "name": "stdout",
     "output_type": "stream",
     "text": [
      "time.struct_time(tm_year=2020, tm_mon=12, tm_mday=15, tm_hour=17, tm_min=22, tm_sec=17, tm_wday=1, tm_yday=350, tm_isdst=0)\n"
     ]
    }
   ],
   "source": [
    "print(time.localtime())"
   ]
  },
  {
   "cell_type": "code",
   "execution_count": 26,
   "metadata": {},
   "outputs": [
    {
     "name": "stdout",
     "output_type": "stream",
     "text": [
      "리스트 걸린 시간 : 9.276077032089233\n"
     ]
    }
   ],
   "source": [
    "start_time = time.time()\n",
    "z = [x[i] +y[i]for i in range(size)]\n",
    "print(f\"리스트 걸린 시간 : {time.time()-start_time}\")"
   ]
  },
  {
   "cell_type": "code",
   "execution_count": 27,
   "metadata": {},
   "outputs": [
    {
     "data": {
      "text/plain": [
       "array([      0,       1,       2, ..., 9999997, 9999998, 9999999])"
      ]
     },
     "execution_count": 27,
     "metadata": {},
     "output_type": "execute_result"
    }
   ],
   "source": [
    "x = np.arange(size)\n",
    "y = np.arange(size)\n",
    "x"
   ]
  },
  {
   "cell_type": "code",
   "execution_count": 28,
   "metadata": {
    "scrolled": true
   },
   "outputs": [
    {
     "name": "stdout",
     "output_type": "stream",
     "text": [
      "넘파이 걸린 시간 : 1.048454761505127\n",
      "None\n"
     ]
    }
   ],
   "source": [
    "start_time = time.time()\n",
    "z = x+y\n",
    "print(print(f\"넘파이 걸린 시간 : {time.time()-start_time}\"))"
   ]
  },
  {
   "cell_type": "code",
   "execution_count": 29,
   "metadata": {},
   "outputs": [
    {
     "data": {
      "text/plain": [
       "4294967264"
      ]
     },
     "execution_count": 29,
     "metadata": {},
     "output_type": "execute_result"
    }
   ],
   "source": [
    "x = np.uint(-32)\n",
    "x"
   ]
  },
  {
   "cell_type": "code",
   "execution_count": 35,
   "metadata": {},
   "outputs": [
    {
     "name": "stdout",
     "output_type": "stream",
     "text": [
      "64\n",
      "<class 'numpy.uint32'>\n",
      "uint32\n"
     ]
    }
   ],
   "source": [
    "x = np.uint(64)\n",
    "print(x)\n",
    "print(type(x))\n",
    "print(x.dtype)"
   ]
  },
  {
   "cell_type": "code",
   "execution_count": 34,
   "metadata": {},
   "outputs": [
    {
     "name": "stdout",
     "output_type": "stream",
     "text": [
      "[1 2 3 4]\n",
      "<class 'numpy.ndarray'>\n"
     ]
    }
   ],
   "source": [
    "x = np.array([1,2,3,4])\n",
    "print(x)\n",
    "print(type(x))"
   ]
  },
  {
   "cell_type": "code",
   "execution_count": 36,
   "metadata": {},
   "outputs": [
    {
     "name": "stdout",
     "output_type": "stream",
     "text": [
      "[1. 2. 3. 4.]\n",
      "<class 'numpy.ndarray'>\n",
      "float32\n"
     ]
    }
   ],
   "source": [
    "x =np.float32([1,2,3,4])\n",
    "print(x)\n",
    "print(type(x))\n",
    "print(x.dtype)"
   ]
  },
  {
   "cell_type": "code",
   "execution_count": 39,
   "metadata": {},
   "outputs": [
    {
     "name": "stdout",
     "output_type": "stream",
     "text": [
      "[1. 2. 3. 4.]\n",
      "<class 'numpy.ndarray'>\n",
      "float32\n"
     ]
    }
   ],
   "source": [
    "x = np.array([1,2,3,4],dtype = np.float32)\n",
    "print(x)\n",
    "print(type(x))\n",
    "print(x.dtype)"
   ]
  },
  {
   "cell_type": "code",
   "execution_count": 41,
   "metadata": {},
   "outputs": [
    {
     "name": "stdout",
     "output_type": "stream",
     "text": [
      "int32\n",
      "[1 2 3 4]\n"
     ]
    }
   ],
   "source": [
    "x = np.int32(x)\n",
    "print(x.dtype)\n",
    "print(x)"
   ]
  },
  {
   "cell_type": "code",
   "execution_count": 42,
   "metadata": {},
   "outputs": [
    {
     "data": {
      "text/plain": [
       "True"
      ]
     },
     "execution_count": 42,
     "metadata": {},
     "output_type": "execute_result"
    }
   ],
   "source": [
    "np.issubdtype(x.dtype,np.int32)"
   ]
  },
  {
   "cell_type": "code",
   "execution_count": 43,
   "metadata": {},
   "outputs": [],
   "source": [
    "x = np.array([1,2])"
   ]
  },
  {
   "cell_type": "code",
   "execution_count": 44,
   "metadata": {},
   "outputs": [
    {
     "name": "stdout",
     "output_type": "stream",
     "text": [
      "(2,)\n"
     ]
    }
   ],
   "source": [
    "print(x.shape)"
   ]
  },
  {
   "cell_type": "code",
   "execution_count": 45,
   "metadata": {},
   "outputs": [
    {
     "name": "stdout",
     "output_type": "stream",
     "text": [
      "[0 1 2 3 4 5 6 7 8]\n"
     ]
    }
   ],
   "source": [
    "x = np.arange(9)\n",
    "print(x)"
   ]
  },
  {
   "cell_type": "code",
   "execution_count": 46,
   "metadata": {},
   "outputs": [
    {
     "name": "stdout",
     "output_type": "stream",
     "text": [
      "[[0 1 2]\n",
      " [3 4 5]\n",
      " [6 7 8]]\n"
     ]
    }
   ],
   "source": [
    "x = x.reshape(3,3)\n",
    "print(x)"
   ]
  },
  {
   "cell_type": "code",
   "execution_count": 47,
   "metadata": {},
   "outputs": [
    {
     "name": "stdout",
     "output_type": "stream",
     "text": [
      "[[[ 0  1  2  3]\n",
      "  [ 4  5  6  7]\n",
      "  [ 8  9 10 11]]\n",
      "\n",
      " [[12 13 14 15]\n",
      "  [16 17 18 19]\n",
      "  [20 21 22 23]]]\n"
     ]
    }
   ],
   "source": [
    "x = np.arange(24).reshape(2,3,4)\n",
    "print(x)"
   ]
  },
  {
   "cell_type": "code",
   "execution_count": 48,
   "metadata": {},
   "outputs": [
    {
     "name": "stdout",
     "output_type": "stream",
     "text": [
      "(2, 3, 4)\n"
     ]
    }
   ],
   "source": [
    "print(x.shape)"
   ]
  },
  {
   "cell_type": "code",
   "execution_count": 49,
   "metadata": {},
   "outputs": [],
   "source": [
    "x = np.array([[1,2],[3,4],[5,6]])"
   ]
  },
  {
   "cell_type": "code",
   "execution_count": 50,
   "metadata": {},
   "outputs": [
    {
     "name": "stdout",
     "output_type": "stream",
     "text": [
      "[[1 2]\n",
      " [3 4]\n",
      " [5 6]]\n"
     ]
    }
   ],
   "source": [
    "print(x)"
   ]
  },
  {
   "cell_type": "code",
   "execution_count": 51,
   "metadata": {},
   "outputs": [
    {
     "name": "stdout",
     "output_type": "stream",
     "text": [
      "[[1 2 3]\n",
      " [4 5 6]]\n"
     ]
    }
   ],
   "source": [
    "print(x.reshape(2,3))"
   ]
  },
  {
   "cell_type": "code",
   "execution_count": null,
   "metadata": {},
   "outputs": [],
   "source": []
  }
 ],
 "metadata": {
  "kernelspec": {
   "display_name": "Python 3",
   "language": "python",
   "name": "python3"
  },
  "language_info": {
   "codemirror_mode": {
    "name": "ipython",
    "version": 3
   },
   "file_extension": ".py",
   "mimetype": "text/x-python",
   "name": "python",
   "nbconvert_exporter": "python",
   "pygments_lexer": "ipython3",
   "version": "3.8.5"
  }
 },
 "nbformat": 4,
 "nbformat_minor": 4
}
