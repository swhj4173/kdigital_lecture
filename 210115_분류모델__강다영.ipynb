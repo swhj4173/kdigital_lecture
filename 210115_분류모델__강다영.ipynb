{
 "cells": [
  {
   "cell_type": "markdown",
   "metadata": {},
   "source": [
    "### train, test data"
   ]
  },
  {
   "cell_type": "code",
   "execution_count": 26,
   "metadata": {},
   "outputs": [],
   "source": [
    "import pandas as pd\n",
    "train_df = pd.read_csv(\"train.csv\",nrows=2000)\n",
    "\n",
    "unused_columns,label_column = [\"id\",\"hour\",\"device_id\",\"device_ip\"],\"click\"\n",
    "train_df = train_df.drop(unused_columns,axis=1)\n",
    "X_dict_train = list(train_df.drop(label_column,axis=1).T.to_dict().values())\n",
    "y_train = train_df[label_column]\n",
    "\n",
    "test_df = pd.read_csv(\"train.csv\",header=0,skiprows=(1,2001),nrows=2000)\n",
    "test_df = test_df.drop(unused_columns,axis=1)\n",
    "X_dict_test = list(test_df.drop(label_column,axis=1).T.to_dict().values())\n",
    "y_test = test_df[label_column]\n",
    "\n",
    "from sklearn.feature_extraction import DictVectorizer\n",
    "vectorizer = DictVectorizer(sparse=True)\n",
    "\n",
    "X_train = vectorizer.fit_transform(X_dict_train)\n",
    "X_test = vectorizer.fit_transform(X_dict_test)"
   ]
  },
  {
   "cell_type": "markdown",
   "metadata": {},
   "source": [
    "## Decision Tree"
   ]
  },
  {
   "cell_type": "code",
   "execution_count": 88,
   "metadata": {},
   "outputs": [
    {
     "data": {
      "text/plain": [
       "GridSearchCV(cv=3, estimator=DecisionTreeClassifier(min_samples_split=30),\n",
       "             n_jobs=-1, param_grid={'max_depth': [3, 10, None]},\n",
       "             scoring='roc_auc')"
      ]
     },
     "execution_count": 88,
     "metadata": {},
     "output_type": "execute_result"
    }
   ],
   "source": [
    "from sklearn.tree import DecisionTreeClassifier\n",
    "parameters={\"max_depth\":[3,10,None]}\n",
    "decision_tree = DecisionTreeClassifier(criterion=\"gini\",min_samples_split=30)\n",
    "\n",
    "from sklearn.model_selection import GridSearchCV\n",
    "grid_search1 = GridSearchCV(decision_tree, parameters, n_jobs=-1, cv=3, scoring=\"roc_auc\")\n",
    "grid_search1.fit(X_train,y_train)\n",
    "# grid_search1.best_params_\n"
   ]
  },
  {
   "cell_type": "code",
   "execution_count": 89,
   "metadata": {},
   "outputs": [],
   "source": [
    "decision_tree_best = grid_search1.best_estimator_"
   ]
  },
  {
   "cell_type": "code",
   "execution_count": 90,
   "metadata": {},
   "outputs": [
    {
     "data": {
      "text/plain": [
       "array([0, 0, 0, ..., 0, 0, 0], dtype=int64)"
      ]
     },
     "execution_count": 90,
     "metadata": {},
     "output_type": "execute_result"
    }
   ],
   "source": [
    "y_pred_dc = decision_tree_best.predict(X_test)\n",
    "y_pred_dc"
   ]
  },
  {
   "cell_type": "code",
   "execution_count": 91,
   "metadata": {},
   "outputs": [
    {
     "data": {
      "text/plain": [
       "array([0.18527607, 0.18527607, 0.18527607, ..., 0.0718232 , 0.0718232 ,\n",
       "       0.0718232 ])"
      ]
     },
     "execution_count": 91,
     "metadata": {},
     "output_type": "execute_result"
    }
   ],
   "source": [
    "from sklearn.metrics import roc_auc_score, roc_curve\n",
    "y_pred_proba_dc = decision_tree_best.predict_proba(X_test)[:,1]\n",
    "y_pred_proba_dc"
   ]
  },
  {
   "cell_type": "code",
   "execution_count": 117,
   "metadata": {},
   "outputs": [
    {
     "data": {
      "text/plain": [
       "0.7222000913127389"
      ]
     },
     "execution_count": 117,
     "metadata": {},
     "output_type": "execute_result"
    }
   ],
   "source": [
    "fpr_dc,tpr_dc,_=roc_curve(y_test,y_pred_proba_dc)\n",
    "auc1 = roc_auc_score(y_test, y_pred_proba_dc)\n",
    "auc1 "
   ]
  },
  {
   "cell_type": "code",
   "execution_count": 118,
   "metadata": {},
   "outputs": [
    {
     "data": {
      "text/plain": [
       "<matplotlib.legend.Legend at 0x1b7c90720d0>"
      ]
     },
     "execution_count": 118,
     "metadata": {},
     "output_type": "execute_result"
    },
    {
     "data": {
      "image/png": "[encoded data removed]",
      "text/plain": [
       "<Figure size 432x288 with 1 Axes>"
      ]
     },
     "metadata": {
      "needs_background": "light"
     },
     "output_type": "display_data"
    }
   ],
   "source": [
    "import matplotlib.pyplot as plt\n",
    "\n",
    "plt.plot(fpr_dc,tpr_dc,\"r-\",label = \"DecisionTreeClassifier\")\n",
    "plt.plot([0,1],[0,1],\"b--\",label = \"random guess\")\n",
    "plt.xlabel(\"false positive rate\")\n",
    "plt.ylabel(\"true positive rate\")\n",
    "plt.title(\"AUC1={0:.2f}\".format(auc1))\n",
    "plt.legend(loc=\"lower right\")"
   ]
  },
  {
   "cell_type": "markdown",
   "metadata": {},
   "source": [
    "### Randomforest"
   ]
  },
  {
   "cell_type": "code",
   "execution_count": 94,
   "metadata": {},
   "outputs": [
    {
     "data": {
      "text/plain": [
       "GridSearchCV(cv=3,\n",
       "             estimator=RandomForestClassifier(min_samples_split=30, n_jobs=-1),\n",
       "             n_jobs=-1, param_grid={'max_depth': [3, 10, None]},\n",
       "             scoring='roc_auc')"
      ]
     },
     "execution_count": 94,
     "metadata": {},
     "output_type": "execute_result"
    }
   ],
   "source": [
    "from sklearn.ensemble import RandomForestClassifier\n",
    "parameters={\"max_depth\":[3,10,None]}\n",
    "rf = RandomForestClassifier(n_estimators=100,criterion=\"gini\",min_samples_split=30,n_jobs=-1)\n",
    "\n",
    "from sklearn.model_selection import GridSearchCV\n",
    "grid_search2 = GridSearchCV(rf,parameters,n_jobs=-1,cv=3,scoring=\"roc_auc\")\n",
    "grid_search2.fit(X_train,y_train)\n",
    "#grid_search2.best_params_"
   ]
  },
  {
   "cell_type": "code",
   "execution_count": 95,
   "metadata": {},
   "outputs": [],
   "source": [
    "rf_best = grid_search.best_estimator_"
   ]
  },
  {
   "cell_type": "code",
   "execution_count": 96,
   "metadata": {},
   "outputs": [
    {
     "data": {
      "text/plain": [
       "array([0, 0, 0, ..., 0, 0, 0], dtype=int64)"
      ]
     },
     "execution_count": 96,
     "metadata": {},
     "output_type": "execute_result"
    }
   ],
   "source": [
    "y_pred_rf = rf_best.predict(X_test)\n",
    "y_pred_rf"
   ]
  },
  {
   "cell_type": "code",
   "execution_count": 97,
   "metadata": {},
   "outputs": [
    {
     "data": {
      "text/plain": [
       "array([0.18148761, 0.08188762, 0.19581011, ..., 0.10176484, 0.04659263,\n",
       "       0.02820158])"
      ]
     },
     "execution_count": 97,
     "metadata": {},
     "output_type": "execute_result"
    }
   ],
   "source": [
    "from sklearn.metrics import roc_auc_score, roc_curve\n",
    "y_pred_proba_rf = rf_best.predict_proba(X_test)[:,1]\n",
    "y_pred_proba_rf"
   ]
  },
  {
   "cell_type": "code",
   "execution_count": 119,
   "metadata": {},
   "outputs": [
    {
     "data": {
      "text/plain": [
       "0.9271162454821112"
      ]
     },
     "execution_count": 119,
     "metadata": {},
     "output_type": "execute_result"
    }
   ],
   "source": [
    "fpr_rf,tpr_rf,_=roc_curve(y_test,y_pred_proba_rf)\n",
    "auc2 = roc_auc_score(y_test, y_pred_proba_rf)\n",
    "auc2 "
   ]
  },
  {
   "cell_type": "code",
   "execution_count": 120,
   "metadata": {},
   "outputs": [
    {
     "data": {
      "text/plain": [
       "<matplotlib.legend.Legend at 0x1b7c90c9100>"
      ]
     },
     "execution_count": 120,
     "metadata": {},
     "output_type": "execute_result"
    },
    {
     "data": {
      "image/png": "[encoded data removed]",
      "text/plain": [
       "<Figure size 432x288 with 1 Axes>"
      ]
     },
     "metadata": {
      "needs_background": "light"
     },
     "output_type": "display_data"
    }
   ],
   "source": [
    "import matplotlib.pyplot as plt\n",
    "\n",
    "plt.plot(fpr_rf,tpr_rf,\"r-\",label = \"RandomForestClassifier\")\n",
    "plt.plot([0,1],[0,1],\"b--\",label = \"random guess\")\n",
    "plt.xlabel(\"false positive rate\")\n",
    "plt.ylabel(\"true positive rate\")\n",
    "plt.title(\"AUC2={0:.2f}\".format(auc2))\n",
    "plt.legend(loc=\"lower right\")"
   ]
  },
  {
   "cell_type": "markdown",
   "metadata": {},
   "source": [
    "### knn"
   ]
  },
  {
   "cell_type": "code",
   "execution_count": 130,
   "metadata": {},
   "outputs": [
    {
     "data": {
      "text/plain": [
       "GridSearchCV(cv=3, estimator=KNeighborsClassifier(), n_jobs=-1,\n",
       "             param_grid={'n_neighbors': [1, 2, 3, 4, 5]}, scoring='roc_auc')"
      ]
     },
     "execution_count": 130,
     "metadata": {},
     "output_type": "execute_result"
    }
   ],
   "source": [
    "from sklearn.neighbors import KNeighborsClassifier\n",
    "parameters={'n_neighbors':[1,2,3,4,5]}\n",
    "knn = KNeighborsClassifier()\n",
    "#knn.fit(X_train,y_train)\n",
    "from sklearn.model_selection import GridSearchCV\n",
    "grid_search3 = GridSearchCV(knn,parameters,n_jobs=-1,cv=3,scoring=\"roc_auc\")\n",
    "grid_search3.fit(X_train,y_train)"
   ]
  },
  {
   "cell_type": "code",
   "execution_count": 131,
   "metadata": {},
   "outputs": [],
   "source": [
    "knn_best = grid_search3.best_estimator_"
   ]
  },
  {
   "cell_type": "code",
   "execution_count": 132,
   "metadata": {},
   "outputs": [
    {
     "data": {
      "text/plain": [
       "array([0, 0, 0, ..., 0, 0, 0], dtype=int64)"
      ]
     },
     "execution_count": 132,
     "metadata": {},
     "output_type": "execute_result"
    }
   ],
   "source": [
    "y_pred_knn = knn_best.predict(X_test)\n",
    "y_pred_knn"
   ]
  },
  {
   "cell_type": "code",
   "execution_count": 133,
   "metadata": {},
   "outputs": [
    {
     "data": {
      "text/plain": [
       "array([0., 0., 0., ..., 0., 0., 0.])"
      ]
     },
     "execution_count": 133,
     "metadata": {},
     "output_type": "execute_result"
    }
   ],
   "source": [
    "from sklearn.metrics import roc_auc_score, roc_curve\n",
    "y_pred_proba_knn = knn_best.predict_proba(X_test)[:,1]\n",
    "y_pred_proba_knn"
   ]
  },
  {
   "cell_type": "code",
   "execution_count": 134,
   "metadata": {},
   "outputs": [
    {
     "data": {
      "text/plain": [
       "0.8751134588064953"
      ]
     },
     "execution_count": 134,
     "metadata": {},
     "output_type": "execute_result"
    }
   ],
   "source": [
    "fpr_knn,tpr_knn,_=roc_curve(y_test,y_pred_proba_knn)\n",
    "auc3 = roc_auc_score(y_test, y_pred_proba_knn)\n",
    "auc3"
   ]
  },
  {
   "cell_type": "code",
   "execution_count": 135,
   "metadata": {},
   "outputs": [
    {
     "data": {
      "text/plain": [
       "<matplotlib.legend.Legend at 0x1b7c9263f70>"
      ]
     },
     "execution_count": 135,
     "metadata": {},
     "output_type": "execute_result"
    },
    {
     "data": {
      "image/png": "[encoded data removed]",
      "text/plain": [
       "<Figure size 432x288 with 1 Axes>"
      ]
     },
     "metadata": {
      "needs_background": "light"
     },
     "output_type": "display_data"
    }
   ],
   "source": [
    "import matplotlib.pyplot as plt\n",
    "\n",
    "plt.plot(fpr_knn,tpr_knn,\"r-\",label = \"KNeighborsClassifier\")\n",
    "plt.plot([0,1],[0,1],\"b--\",label = \"random guess\")\n",
    "plt.xlabel(\"false positive rate\")\n",
    "plt.ylabel(\"true positive rate\")\n",
    "plt.title(\"AUC3={0:.2f}\".format(auc3))\n",
    "plt.legend(loc=\"lower right\")"
   ]
  },
  {
   "cell_type": "markdown",
   "metadata": {},
   "source": [
    "### logistic"
   ]
  },
  {
   "cell_type": "code",
   "execution_count": 142,
   "metadata": {},
   "outputs": [
    {
     "name": "stderr",
     "output_type": "stream",
     "text": [
      "C:\\Users\\687\\anaconda3\\lib\\site-packages\\sklearn\\model_selection\\_search.py:918: UserWarning: One or more of the test scores are non-finite: [0.6203432         nan 0.62038668        nan 0.62020675        nan\n",
      " 0.62720879        nan 0.62032643        nan]\n",
      "  warnings.warn(\n"
     ]
    },
    {
     "data": {
      "text/plain": [
       "GridSearchCV(cv=3, estimator=LogisticRegression(), n_jobs=-1,\n",
       "             param_grid={'C': [0.001, 0.01, 0.1, 1, 10],\n",
       "                         'penalty': ['l2', 'l1']},\n",
       "             scoring='roc_auc')"
      ]
     },
     "execution_count": 142,
     "metadata": {},
     "output_type": "execute_result"
    }
   ],
   "source": [
    "from sklearn.linear_model import LogisticRegression\n",
    "logic = LogisticRegression()\n",
    "#logic.fit(X_train,y_train)\n",
    "parameters = {'C':[0.001,0.01,0.1,1,10],'penalty':['l2','l1']}\n",
    "\n",
    "from sklearn.model_selection import GridSearchCV\n",
    "grid_search4 = GridSearchCV(logic,parameters,n_jobs=-1,cv=3,scoring='roc_auc')\n",
    "grid_search4.fit(X_train,y_train)"
   ]
  },
  {
   "cell_type": "code",
   "execution_count": 143,
   "metadata": {},
   "outputs": [],
   "source": [
    "logic_best = grid_search4.best_estimator_"
   ]
  },
  {
   "cell_type": "code",
   "execution_count": 144,
   "metadata": {},
   "outputs": [
    {
     "data": {
      "text/plain": [
       "array([0, 0, 0, ..., 0, 0, 0], dtype=int64)"
      ]
     },
     "execution_count": 144,
     "metadata": {},
     "output_type": "execute_result"
    }
   ],
   "source": [
    "y_pred_logic = logic_best.predict(X_test)\n",
    "y_pred_logic"
   ]
  },
  {
   "cell_type": "code",
   "execution_count": 145,
   "metadata": {},
   "outputs": [
    {
     "data": {
      "text/plain": [
       "array([0.14624431, 0.14624112, 0.14624619, ..., 0.14808227, 0.10462121,\n",
       "       0.15659982])"
      ]
     },
     "execution_count": 145,
     "metadata": {},
     "output_type": "execute_result"
    }
   ],
   "source": [
    "from sklearn.metrics import roc_auc_score, roc_curve\n",
    "y_pred_proba_logic = logic_best.predict_proba(X_test)[:,1]\n",
    "y_pred_proba_logic"
   ]
  },
  {
   "cell_type": "code",
   "execution_count": 146,
   "metadata": {},
   "outputs": [
    {
     "data": {
      "text/plain": [
       "0.6427952975758469"
      ]
     },
     "execution_count": 146,
     "metadata": {},
     "output_type": "execute_result"
    }
   ],
   "source": [
    "fpr_logic,tpr_logic,_=roc_curve(y_test,y_pred_proba_logic)\n",
    "auc4 = roc_auc_score(y_test, y_pred_proba_logic)\n",
    "auc4"
   ]
  },
  {
   "cell_type": "code",
   "execution_count": 141,
   "metadata": {
    "scrolled": true
   },
   "outputs": [
    {
     "data": {
      "text/plain": [
       "<matplotlib.legend.Legend at 0x1b7c92cb370>"
      ]
     },
     "execution_count": 141,
     "metadata": {},
     "output_type": "execute_result"
    },
    {
     "data": {
      "image/png": "[encoded data removed]",
      "text/plain": [
       "<Figure size 432x288 with 1 Axes>"
      ]
     },
     "metadata": {
      "needs_background": "light"
     },
     "output_type": "display_data"
    }
   ],
   "source": [
    "import matplotlib.pyplot as plt\n",
    "\n",
    "plt.plot(fpr_logic,tpr_logic,\"r-\",label = \"LogisticRegression\")\n",
    "plt.plot([0,1],[0,1],\"b--\",label = \"random guess\")\n",
    "plt.xlabel(\"false positive rate\")\n",
    "plt.ylabel(\"true positive rate\")\n",
    "plt.title(\"AUC4={0:.2f}\".format(auc4))\n",
    "plt.legend(loc=\"lower right\")"
   ]
  },
  {
   "cell_type": "code",
   "execution_count": 147,
   "metadata": {
    "scrolled": true
   },
   "outputs": [
    {
     "data": {
      "text/plain": [
       "<matplotlib.legend.Legend at 0x1b7c9370ee0>"
      ]
     },
     "execution_count": 147,
     "metadata": {},
     "output_type": "execute_result"
    },
    {
     "data": {
      "image/png": "[encoded data removed]",
      "text/plain": [
       "<Figure size 432x288 with 1 Axes>"
      ]
     },
     "metadata": {
      "needs_background": "light"
     },
     "output_type": "display_data"
    }
   ],
   "source": [
    "plt.plot(fpr_dc, tpr_dc, 'r-',label='DecisionTreeClassifier')\n",
    "plt.plot(fpr_rf, tpr_rf, 'b-',label='RandomForestClassifier')\n",
    "plt.plot(fpr_knn, tpr_knn, 'g-',label='KNeighborsClassifier')\n",
    "plt.plot(fpr_logic, tpr_logic, 'y-',label='LogisticRegression')\n",
    "plt.plot([0, 1],[0, 1],'b--',label='random guess')\n",
    "plt.xlabel('false positive rate')\n",
    "plt.ylabel('true positive rate')\n",
    "plt.title('AUC1={0:.2f}/AUC2={1:.2f}/AUC3={2:.2f}/AUC4={3:.2f}'.format(auc1,auc2, auc3, auc4))\n",
    "plt.legend(loc='lower right')"
   ]
  },
  {
   "cell_type": "code",
   "execution_count": null,
   "metadata": {},
   "outputs": [],
   "source": []
  }
 ],
 "metadata": {
  "kernelspec": {
   "display_name": "Python 3",
   "language": "python",
   "name": "python3"
  },
  "language_info": {
   "codemirror_mode": {
    "name": "ipython",
    "version": 3
   },
   "file_extension": ".py",
   "mimetype": "text/x-python",
   "name": "python",
   "nbconvert_exporter": "python",
   "pygments_lexer": "ipython3",
   "version": "3.8.5"
  }
 },
 "nbformat": 4,
 "nbformat_minor": 4
}
