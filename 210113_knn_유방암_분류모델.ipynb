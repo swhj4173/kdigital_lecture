{
 "cells": [
  {
   "cell_type": "code",
   "execution_count": 9,
   "metadata": {},
   "outputs": [
    {
     "name": "stdout",
     "output_type": "stream",
     "text": [
      "accuracy =  0.9761904761904762\n",
      "roc_auc =  0.9706189333055005\n",
      "--------------------\n",
      "accuracy_2 =  0.9666666666666667\n",
      "roc_auc_2 =  0.9556935601711722\n"
     ]
    }
   ],
   "source": [
    "import pandas as pd\n",
    "# 데이터 읽어오기\n",
    "url = \"https://han.gl/zNMZu\"\n",
    "breast_cancer = pd.read_csv(url, header=None)\n",
    "# 컬럼명 바꾸기\n",
    "breast_cancer.columns = [\"id_number\",\"clump_thickness\",\"unif_cell_size\",\"unif_cell_shape\",\n",
    "                         \"marg_adhesion\",\"single_epith_cell_size\",\"bare_nuclei\",\"bland_chromatin\",\n",
    "                         \"normal_nucleoli\",\"mitoses\",\"class\"]\n",
    "import numpy as np\n",
    "# ?을 NA로 바꾼후, NA를 최빈값으로 만들기\n",
    "breast_cancer[\"bare_nuclei\"] = breast_cancer[\"bare_nuclei\"].replace(\"?\",np.NAN)\n",
    "breast_cancer[\"bare_nuclei\"] = breast_cancer[\"bare_nuclei\"].\\\n",
    "                               fillna(breast_cancer[\"bare_nuclei\"].value_counts().index[0])\n",
    "#class를 0과 1로 만들기\n",
    "breast_cancer[\"cancer_ind\"] = 0\n",
    "breast_cancer.loc[breast_cancer[\"class\"] == 4, \"cancer_ind\"] = 1\n",
    "# X,y 만들기\n",
    "X = breast_cancer.drop([\"id_number\", \"class\", \"cancer_ind\"], axis=1)\n",
    "y = breast_cancer.cancer_ind\n",
    "# 훈련데이터 / 테스트 데이터 나누기 \n",
    "from sklearn.model_selection import train_test_split\n",
    "X_train, X_test, y_train, y_test = train_test_split(X, y, test_size=0.3, random_state=42)\n",
    "\n",
    "# 데이터 스케일 \n",
    "from sklearn.preprocessing import StandardScaler\n",
    "scaler=StandardScaler()\n",
    "\n",
    "X_train_scaled = scaler.fit_transform(X_train)\n",
    "X_test_scaled = scaler.transform(X_test)\n",
    "\n",
    "# KNN \n",
    "from sklearn.neighbors import KNeighborsClassifier\n",
    "knn = KNeighborsClassifier(n_neighbors=3)\n",
    "knn.fit(X_train_scaled, y_train)\n",
    "\n",
    "from sklearn.metrics import accuracy_score, confusion_matrix, roc_auc_score, roc_curve\n",
    "y_pred = knn.predict(X_test_scaled)\n",
    "\n",
    "print(\"accuracy = \", accuracy_score(y_test, y_pred))\n",
    "print(\"roc_auc = \", roc_auc_score(y_test, y_pred))\n",
    "print(\"-\"*20)\n",
    "\n",
    "from sklearn.model_selection import GridSearchCV\n",
    "grid_search = GridSearchCV(knn, {\"n_neighbors\": [1, 2, 3, 4, 5]}, \n",
    "                           n_jobs=-1, cv=7, scoring=\"roc_auc\")\n",
    "grid_search.fit(X_train_scaled, y_train)\n",
    "\n",
    "knn_best = grid_search.best_estimator_\n",
    "y_pred = knn_best.predict(X_test_scaled)\n",
    "\n",
    "print(\"accuracy_2 = \", accuracy_score(y_test, y_pred))\n",
    "print(\"roc_auc_2 = \", roc_auc_score(y_test, y_pred))"
   ]
  },
  {
   "cell_type": "code",
   "execution_count": null,
   "metadata": {},
   "outputs": [],
   "source": []
  },
  {
   "cell_type": "code",
   "execution_count": 10,
   "metadata": {},
   "outputs": [
    {
     "name": "stdout",
     "output_type": "stream",
     "text": [
      "accuracy =  0.9761904761904762\n",
      "roc_auc =  0.9706189333055005\n",
      "--------------------\n",
      "accuracy_2 =  0.9666666666666667\n",
      "roc_auc_2 =  0.9556935601711722\n"
     ]
    }
   ],
   "source": [
    "from sklearn.neighbors import KNeighborsClassifier\n",
    "knn = KNeighborsClassifier(n_neighbors=3)\n",
    "knn.fit(X_train_scaled, y_train)\n",
    "\n",
    "from sklearn.metrics import accuracy_score, confusion_matrix, roc_auc_score, roc_curve\n",
    "y_pred = knn.predict(X_test_scaled)\n",
    "\n",
    "print(\"accuracy = \", accuracy_score(y_test, y_pred))\n",
    "print(\"roc_auc = \", roc_auc_score(y_test, y_pred))\n",
    "\n",
    "from sklearn.model_selection import GridSearchCV\n",
    "grid_search = GridSearchCV(knn, {\"n_neighbors\": [1, 2, 3, 4, 5]}, \n",
    "                           n_jobs=-1, cv=7,  scoring=\"f1\")\n",
    "grid_search.fit(X_train_scaled, y_train)\n",
    "\n",
    "knn_best = grid_search.best_estimator_\n",
    "y_pred = knn_best.predict(X_test_scaled)\n",
    "\n",
    "print(\"-\"*20)\n",
    "\n",
    "print(\"accuracy_2 = \", accuracy_score(y_test, y_pred))\n",
    "print(\"roc_auc_2 = \", roc_auc_score(y_test, y_pred))"
   ]
  },
  {
   "cell_type": "code",
   "execution_count": 12,
   "metadata": {},
   "outputs": [
    {
     "name": "stdout",
     "output_type": "stream",
     "text": [
      "accuracy =  0.9761904761904762\n",
      "roc_auc =  0.9706189333055005\n",
      "--------------------\n",
      "accuracy_2 =  0.9619047619047619\n",
      "roc_auc_2 =  0.948230873604008\n"
     ]
    }
   ],
   "source": [
    "from sklearn.neighbors import KNeighborsClassifier\n",
    "knn = KNeighborsClassifier(n_neighbors=3)\n",
    "knn.fit(X_train_scaled, y_train)\n",
    "\n",
    "from sklearn.metrics import accuracy_score, confusion_matrix, roc_auc_score, roc_curve\n",
    "y_pred = knn.predict(X_test_scaled)\n",
    "\n",
    "print(\"accuracy = \", accuracy_score(y_test, y_pred))\n",
    "print(\"roc_auc = \", roc_auc_score(y_test, y_pred))\n",
    "\n",
    "from sklearn.model_selection import GridSearchCV\n",
    "grid_search = GridSearchCV(knn, {\"n_neighbors\": [1, 2, 3, 4, 5]}, \n",
    "                           n_jobs=-1, cv=7,  scoring=\"accuracy\")\n",
    "grid_search.fit(X_train_scaled, y_train)\n",
    "\n",
    "knn_best = grid_search.best_estimator_\n",
    "y_pred = knn_best.predict(X_test_scaled)\n",
    "\n",
    "print(\"-\"*20)\n",
    "\n",
    "print(\"accuracy_2 = \", accuracy_score(y_test, y_pred))\n",
    "print(\"roc_auc_2 = \", roc_auc_score(y_test, y_pred))"
   ]
  },
  {
   "cell_type": "code",
   "execution_count": 13,
   "metadata": {},
   "outputs": [
    {
     "name": "stdout",
     "output_type": "stream",
     "text": [
      "accuracy =  0.9714285714285714\n",
      "roc_auc =  0.9631562467383363\n",
      "--------------------\n",
      "accuracy_2 =  0.9809523809523809\n",
      "roc_auc_2 =  0.9780816198726646\n"
     ]
    }
   ],
   "source": [
    "from sklearn.neighbors import KNeighborsClassifier\n",
    "knn = KNeighborsClassifier(n_neighbors=3)\n",
    "knn.fit(X_train, y_train)\n",
    "\n",
    "from sklearn.metrics import accuracy_score, confusion_matrix, roc_auc_score, roc_curve\n",
    "y_pred = knn.predict(X_test)\n",
    "\n",
    "print(\"accuracy = \", accuracy_score(y_test, y_pred))\n",
    "print(\"roc_auc = \", roc_auc_score(y_test, y_pred))\n",
    "\n",
    "from sklearn.model_selection import GridSearchCV\n",
    "grid_search = GridSearchCV(knn, {\"n_neighbors\": [1, 2, 3, 4, 5]}, \n",
    "                           n_jobs=-1, cv=7,  scoring=\"f1\")\n",
    "grid_search.fit(X_train, y_train)\n",
    "\n",
    "knn_best = grid_search.best_estimator_\n",
    "y_pred = knn_best.predict(X_test)\n",
    "\n",
    "print(\"-\"*20)\n",
    "\n",
    "print(\"accuracy_2 = \", accuracy_score(y_test, y_pred))\n",
    "print(\"roc_auc_2 = \", roc_auc_score(y_test, y_pred))"
   ]
  },
  {
   "cell_type": "code",
   "execution_count": 14,
   "metadata": {},
   "outputs": [
    {
     "name": "stdout",
     "output_type": "stream",
     "text": [
      "accuracy =  0.9714285714285714\n",
      "roc_auc =  0.9631562467383363\n",
      "--------------------\n",
      "accuracy_2 =  0.9809523809523809\n",
      "roc_auc_2 =  0.9780816198726646\n"
     ]
    }
   ],
   "source": [
    "from sklearn.neighbors import KNeighborsClassifier\n",
    "knn = KNeighborsClassifier(n_neighbors=3)\n",
    "knn.fit(X_train, y_train)\n",
    "\n",
    "from sklearn.metrics import accuracy_score, confusion_matrix, roc_auc_score, roc_curve\n",
    "y_pred = knn.predict(X_test)\n",
    "\n",
    "print(\"accuracy = \", accuracy_score(y_test, y_pred))\n",
    "print(\"roc_auc = \", roc_auc_score(y_test, y_pred))\n",
    "\n",
    "from sklearn.model_selection import GridSearchCV\n",
    "grid_search = GridSearchCV(knn, {\"n_neighbors\": [1, 2, 3, 4, 5]}, \n",
    "                           n_jobs=-1, cv=7,  scoring=\"accuracy\")\n",
    "grid_search.fit(X_train, y_train)\n",
    "\n",
    "knn_best = grid_search.best_estimator_\n",
    "y_pred = knn_best.predict(X_test)\n",
    "\n",
    "print(\"-\"*20)\n",
    "\n",
    "print(\"accuracy_2 = \", accuracy_score(y_test, y_pred))\n",
    "print(\"roc_auc_2 = \", roc_auc_score(y_test, y_pred))"
   ]
  },
  {
   "cell_type": "code",
   "execution_count": null,
   "metadata": {},
   "outputs": [],
   "source": []
  }
 ],
 "metadata": {
  "kernelspec": {
   "display_name": "Python 3",
   "language": "python",
   "name": "python3"
  },
  "language_info": {
   "codemirror_mode": {
    "name": "ipython",
    "version": 3
   },
   "file_extension": ".py",
   "mimetype": "text/x-python",
   "name": "python",
   "nbconvert_exporter": "python",
   "pygments_lexer": "ipython3",
   "version": "3.8.5"
  }
 },
 "nbformat": 4,
 "nbformat_minor": 4
}
