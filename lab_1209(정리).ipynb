{
 "cells": [
  {
   "cell_type": "code",
   "execution_count": 2,
   "metadata": {
    "scrolled": true
   },
   "outputs": [
    {
     "name": "stdout",
     "output_type": "stream",
     "text": [
      "이름을 입력해주세요 : 홍길동\n",
      "나이를 입력해주세요 : 27\n",
      "연락처를 입력해주세요 : 010-3023-1223\n"
     ]
    }
   ],
   "source": [
    "name = input(\"이름을 입력해주세요 : \")\n",
    "age = input(\"나이를 입력해주세요 : \")\n",
    "phone = input(\"연락처를 입력해주세요 : \")"
   ]
  },
  {
   "cell_type": "code",
   "execution_count": 5,
   "metadata": {},
   "outputs": [],
   "source": [
    "score = dict(이름 = name, 나이 =  age, 연락처 = phone)"
   ]
  },
  {
   "cell_type": "code",
   "execution_count": 7,
   "metadata": {},
   "outputs": [
    {
     "data": {
      "text/plain": [
       "{'이름': '홍길동', '나이': '27', '연락처': '010-3023-1223'}"
      ]
     },
     "execution_count": 7,
     "metadata": {},
     "output_type": "execute_result"
    }
   ],
   "source": [
    "score"
   ]
  },
  {
   "cell_type": "code",
   "execution_count": 8,
   "metadata": {
    "scrolled": true
   },
   "outputs": [
    {
     "name": "stdout",
     "output_type": "stream",
     "text": [
      "이름을 입력해주세요 : 이몽룡\n",
      "나이를 입력해주세요 : 30\n",
      "연락처를 입력해주세요 : 010-3030-4434\n"
     ]
    }
   ],
   "source": [
    "name1 = input(\"이름을 입력해주세요 : \")\n",
    "age1 = input(\"나이를 입력해주세요 : \")\n",
    "phone1 = input(\"연락처를 입력해주세요 : \")"
   ]
  },
  {
   "cell_type": "code",
   "execution_count": 9,
   "metadata": {},
   "outputs": [],
   "source": [
    "score1 = dict(이름 = name1, 나이 =  age1, 연락처 = phone1)"
   ]
  },
  {
   "cell_type": "code",
   "execution_count": 10,
   "metadata": {},
   "outputs": [
    {
     "data": {
      "text/plain": [
       "{'이름': '이몽룡', '나이': '30', '연락처': '010-3030-4434'}"
      ]
     },
     "execution_count": 10,
     "metadata": {},
     "output_type": "execute_result"
    }
   ],
   "source": [
    "score1"
   ]
  },
  {
   "cell_type": "code",
   "execution_count": 11,
   "metadata": {},
   "outputs": [],
   "source": [
    "scores = []"
   ]
  },
  {
   "cell_type": "code",
   "execution_count": 12,
   "metadata": {},
   "outputs": [],
   "source": [
    "scores.append({'이름': '홍길동', '나이': '27', '연락처': '010-3023-1223'})"
   ]
  },
  {
   "cell_type": "code",
   "execution_count": 13,
   "metadata": {},
   "outputs": [
    {
     "data": {
      "text/plain": [
       "[{'이름': '홍길동', '나이': '27', '연락처': '010-3023-1223'}]"
      ]
     },
     "execution_count": 13,
     "metadata": {},
     "output_type": "execute_result"
    }
   ],
   "source": [
    "scores"
   ]
  },
  {
   "cell_type": "code",
   "execution_count": 14,
   "metadata": {},
   "outputs": [],
   "source": [
    "scores.append({'이름': '이몽룡', '나이': '30', '연락처': '010-3030-4434'})"
   ]
  },
  {
   "cell_type": "code",
   "execution_count": 15,
   "metadata": {
    "scrolled": true
   },
   "outputs": [
    {
     "data": {
      "text/plain": [
       "[{'이름': '홍길동', '나이': '27', '연락처': '010-3023-1223'},\n",
       " {'이름': '이몽룡', '나이': '30', '연락처': '010-3030-4434'}]"
      ]
     },
     "execution_count": 15,
     "metadata": {},
     "output_type": "execute_result"
    }
   ],
   "source": [
    "scores"
   ]
  },
  {
   "cell_type": "code",
   "execution_count": 17,
   "metadata": {},
   "outputs": [
    {
     "name": "stdout",
     "output_type": "stream",
     "text": [
      "첫번째 점수를 입력해주세요 : 120\n",
      "두번째 점수를 입력해주세요 : 90\n",
      "세번째 점수를 입력해주세요 : 80\n"
     ]
    }
   ],
   "source": [
    "score1 = int(input(\"첫번째 점수를 입력해주세요 : \"))\n",
    "score2 = int(input(\"두번째 점수를 입력해주세요 : \"))\n",
    "score3 = int(input(\"세번째 점수를 입력해주세요 : \"))"
   ]
  },
  {
   "cell_type": "code",
   "execution_count": 20,
   "metadata": {},
   "outputs": [
    {
     "name": "stdout",
     "output_type": "stream",
     "text": [
      "잘못된 점수가 입력되었습니다\n"
     ]
    }
   ],
   "source": [
    "if (0<=score1<=100) and (0<=score2<=100) and (0<=score3<=100) :\n",
    "    pass\n",
    "print(\"잘못된 점수가 입력되었습니다\")\n"
   ]
  },
  {
   "cell_type": "code",
   "execution_count": 21,
   "metadata": {
    "scrolled": true
   },
   "outputs": [
    {
     "name": "stdout",
     "output_type": "stream",
     "text": [
      "첫번째 점수를 입력해주세요 : 80\n",
      "두번째 점수를 입력해주세요 : 90\n",
      "세번째 점수를 입력해주세요 : 75\n"
     ]
    }
   ],
   "source": [
    "score4 = int(input(\"첫번째 점수를 입력해주세요 : \"))\n",
    "score5 = int(input(\"두번째 점수를 입력해주세요 : \"))\n",
    "score6 = int(input(\"세번째 점수를 입력해주세요 : \"))"
   ]
  },
  {
   "cell_type": "code",
   "execution_count": 28,
   "metadata": {},
   "outputs": [
    {
     "name": "stdout",
     "output_type": "stream",
     "text": [
      "합격\n"
     ]
    }
   ],
   "source": [
    "if (0<=score4<=100) and (0<=score5<=100) and (0<=score6<=100) :\n",
    "    pass\n",
    "if(score4 > 65 and score5 > 65 and score6 > 65) :\n",
    "    print(\"합격\")\n",
    "else :\n",
    "    print(\"불합격\")\n",
    "   "
   ]
  },
  {
   "cell_type": "code",
   "execution_count": 32,
   "metadata": {},
   "outputs": [],
   "source": [
    "fruit = ['사과', '오렌지']\n",
    "vegetable = ['당근', '호박']"
   ]
  },
  {
   "cell_type": "code",
   "execution_count": 30,
   "metadata": {},
   "outputs": [
    {
     "name": "stdout",
     "output_type": "stream",
     "text": [
      "등록할 카테고리를 선택해주세요 (과일, 채소) :채소\n"
     ]
    }
   ],
   "source": [
    "category = input(\"등록할 카테고리를 선택해주세요 (과일, 채소) :\")"
   ]
  },
  {
   "cell_type": "code",
   "execution_count": 31,
   "metadata": {},
   "outputs": [
    {
     "name": "stdout",
     "output_type": "stream",
     "text": [
      "등록할 채소를 입력해주세요 : 당근\n"
     ]
    }
   ],
   "source": [
    "item = input(\"등록할 {}를 입력해주세요 : \".format(category))"
   ]
  },
  {
   "cell_type": "code",
   "execution_count": 34,
   "metadata": {},
   "outputs": [
    {
     "name": "stdout",
     "output_type": "stream",
     "text": [
      "이미 등록된 채소 입니다\n"
     ]
    }
   ],
   "source": [
    "if category in [\"과일\", \"채소\"] :\n",
    "    if category == \"과일\" :\n",
    "        if item in fruit :\n",
    "             print(\"이미 등록된 {} 입니다\".format (category))\n",
    "        else :\n",
    "            fruit.append(item)\n",
    "            print(fruit)\n",
    "    else :\n",
    "        if item in vegetable : \n",
    "            print(\"이미 등록된 {} 입니다\".format (category))\n",
    "        else :\n",
    "            vegetable.append(item)\n",
    "            print(vegetable)\n",
    "    \n",
    "else :\n",
    "    print(\"존재하지 않는 카테고리입니다.\")"
   ]
  },
  {
   "cell_type": "code",
   "execution_count": 35,
   "metadata": {},
   "outputs": [
    {
     "name": "stdout",
     "output_type": "stream",
     "text": [
      "0\n",
      "1\n",
      "2\n",
      "3\n",
      "4\n",
      "5\n",
      "6\n",
      "7\n",
      "8\n",
      "9\n"
     ]
    }
   ],
   "source": [
    "for i in range(10) :\n",
    "    print(i)"
   ]
  },
  {
   "cell_type": "code",
   "execution_count": 36,
   "metadata": {},
   "outputs": [
    {
     "name": "stdout",
     "output_type": "stream",
     "text": [
      "0123456789"
     ]
    }
   ],
   "source": [
    "for i in range(10) :\n",
    "    print(i, end=\"\")"
   ]
  },
  {
   "cell_type": "code",
   "execution_count": 37,
   "metadata": {},
   "outputs": [],
   "source": [
    "x = [3,6,9,20,-7,5]"
   ]
  },
  {
   "cell_type": "code",
   "execution_count": 38,
   "metadata": {},
   "outputs": [
    {
     "data": {
      "text/plain": [
       "[30, 60, 90, 200, -70, 50]"
      ]
     },
     "execution_count": 38,
     "metadata": {},
     "output_type": "execute_result"
    }
   ],
   "source": [
    "for idx in range(len(x)) : \n",
    "    x[idx] *= 10\n",
    "x"
   ]
  },
  {
   "cell_type": "code",
   "execution_count": 39,
   "metadata": {},
   "outputs": [],
   "source": [
    "y = {\"math\" : 70, \"science\" : 80, \"english\" : 20}"
   ]
  },
  {
   "cell_type": "code",
   "execution_count": 40,
   "metadata": {},
   "outputs": [
    {
     "data": {
      "text/plain": [
       "{'math': 80, 'science': 90, 'english': 30}"
      ]
     },
     "execution_count": 40,
     "metadata": {},
     "output_type": "execute_result"
    }
   ],
   "source": [
    "for score in y :\n",
    "    y[score] = y[score] +10\n",
    "y"
   ]
  },
  {
   "cell_type": "code",
   "execution_count": 41,
   "metadata": {},
   "outputs": [
    {
     "name": "stdout",
     "output_type": "stream",
     "text": [
      "몇단을 출력하시겠습니까?3\n"
     ]
    }
   ],
   "source": [
    "num = int(input(\"몇단을 출력하시겠습니까?\"))"
   ]
  },
  {
   "cell_type": "code",
   "execution_count": 42,
   "metadata": {},
   "outputs": [
    {
     "name": "stdout",
     "output_type": "stream",
     "text": [
      "3 * 1 = 3\n",
      "3 * 2 = 6\n",
      "3 * 3 = 9\n",
      "3 * 4 = 12\n",
      "3 * 5 = 15\n",
      "3 * 6 = 18\n",
      "3 * 7 = 21\n",
      "3 * 8 = 24\n"
     ]
    }
   ],
   "source": [
    "for i in range(1,9) :\n",
    "    print(\"{} * {} = {}\".format(num, i, num * i))"
   ]
  },
  {
   "cell_type": "code",
   "execution_count": 43,
   "metadata": {},
   "outputs": [
    {
     "name": "stdout",
     "output_type": "stream",
     "text": [
      "3 * 1 = 3\n",
      "3 * 2 = 6\n",
      "3 * 3 = 9\n",
      "3 * 4 = 12\n",
      "3 * 5 = 15\n",
      "3 * 6 = 18\n",
      "3 * 7 = 21\n",
      "3 * 8 = 24\n"
     ]
    }
   ],
   "source": [
    "for i in range(1,9) :\n",
    "    print(f\"{num} * {i} = {num*i}\")"
   ]
  },
  {
   "cell_type": "code",
   "execution_count": 48,
   "metadata": {},
   "outputs": [],
   "source": [
    "i = 0"
   ]
  },
  {
   "cell_type": "code",
   "execution_count": 50,
   "metadata": {},
   "outputs": [
    {
     "name": "stdout",
     "output_type": "stream",
     "text": [
      "5를 입력하면 반복이 중단 됩니다.4\n",
      "5를 입력하면 반복이 중단 됩니다.0\n",
      "5를 입력하면 반복이 중단 됩니다.5\n"
     ]
    }
   ],
   "source": [
    "while i!= 5 :\n",
    "    i = int(input(\"5를 입력하면 반복이 중단 됩니다.\"))"
   ]
  },
  {
   "cell_type": "code",
   "execution_count": 54,
   "metadata": {},
   "outputs": [
    {
     "name": "stdout",
     "output_type": "stream",
     "text": [
      "값을 입력해주세요 : 30\n",
      "값을 입력해주세요 : 20\n",
      "값을 입력해주세요 : 50\n",
      "값을 입력해주세요 : 40\n",
      "값을 입력해주세요 : 30\n",
      "값을 입력해주세요 : 0\n",
      "합계는? 170\n"
     ]
    }
   ],
   "source": [
    "num = 0\n",
    "while i!=0 :\n",
    "    i = int(input(\"값을 입력해주세요 : \"))\n",
    "    num = num+i\n",
    "print(\"합계는?\",num)"
   ]
  },
  {
   "cell_type": "code",
   "execution_count": 55,
   "metadata": {},
   "outputs": [
    {
     "name": "stdout",
     "output_type": "stream",
     "text": [
      "값을 입력해주세요 : 30\n",
      "값을 입력해주세요 : 20\n",
      "값을 입력해주세요 : 50\n",
      "값을 입력해주세요 : 40\n",
      "값을 입력해주세요 : 30\n",
      "값을 입력해주세요 : 0\n",
      "합계는170?\n"
     ]
    }
   ],
   "source": [
    "num=1\n",
    "sum = 0\n",
    "while num !=0 :\n",
    "    num = int(input(\"값을 입력해주세요 : \"))\n",
    "    sum += num\n",
    "print(f\"합계는{sum}?\")"
   ]
  },
  {
   "cell_type": "code",
   "execution_count": null,
   "metadata": {},
   "outputs": [],
   "source": []
  }
 ],
 "metadata": {
  "kernelspec": {
   "display_name": "Python 3",
   "language": "python",
   "name": "python3"
  },
  "language_info": {
   "codemirror_mode": {
    "name": "ipython",
    "version": 3
   },
   "file_extension": ".py",
   "mimetype": "text/x-python",
   "name": "python",
   "nbconvert_exporter": "python",
   "pygments_lexer": "ipython3",
   "version": "3.8.5"
  }
 },
 "nbformat": 4,
 "nbformat_minor": 4
}
