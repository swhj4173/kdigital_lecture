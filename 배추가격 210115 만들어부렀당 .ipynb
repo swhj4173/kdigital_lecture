{
 "cells": [
  {
   "cell_type": "code",
   "execution_count": 2,
   "metadata": {},
   "outputs": [],
   "source": [
    "import pandas as pd\n",
    "import numpy as np\n"
   ]
  },
  {
   "cell_type": "code",
   "execution_count": 3,
   "metadata": {},
   "outputs": [],
   "source": [
    "data = pd.read_csv('price_data2.csv')"
   ]
  },
  {
   "cell_type": "code",
   "execution_count": 4,
   "metadata": {
    "scrolled": true
   },
   "outputs": [],
   "source": [
    "data=data.dropna(how='any')"
   ]
  },
  {
   "cell_type": "code",
   "execution_count": 5,
   "metadata": {
    "scrolled": true
   },
   "outputs": [],
   "source": [
    "data = data.drop(['year'],axis=1)"
   ]
  },
  {
   "cell_type": "code",
   "execution_count": 6,
   "metadata": {
    "scrolled": false
   },
   "outputs": [
    {
     "data": {
      "text/html": [
       "<div>\n",
       "<style scoped>\n",
       "    .dataframe tbody tr th:only-of-type {\n",
       "        vertical-align: middle;\n",
       "    }\n",
       "\n",
       "    .dataframe tbody tr th {\n",
       "        vertical-align: top;\n",
       "    }\n",
       "\n",
       "    .dataframe thead th {\n",
       "        text-align: right;\n",
       "    }\n",
       "</style>\n",
       "<table border=\"1\" class=\"dataframe\">\n",
       "  <thead>\n",
       "    <tr style=\"text-align: right;\">\n",
       "      <th></th>\n",
       "      <th>avgTemp</th>\n",
       "      <th>minTemp</th>\n",
       "      <th>maxTemp</th>\n",
       "      <th>rainFall</th>\n",
       "      <th>avgPrice</th>\n",
       "    </tr>\n",
       "  </thead>\n",
       "  <tbody>\n",
       "    <tr>\n",
       "      <th>0</th>\n",
       "      <td>-4.9</td>\n",
       "      <td>-11.0</td>\n",
       "      <td>0.9</td>\n",
       "      <td>0.0</td>\n",
       "      <td>2808.517931</td>\n",
       "    </tr>\n",
       "    <tr>\n",
       "      <th>3</th>\n",
       "      <td>-1.8</td>\n",
       "      <td>-5.1</td>\n",
       "      <td>2.2</td>\n",
       "      <td>5.9</td>\n",
       "      <td>2672.259172</td>\n",
       "    </tr>\n",
       "    <tr>\n",
       "      <th>4</th>\n",
       "      <td>-5.2</td>\n",
       "      <td>-8.7</td>\n",
       "      <td>-1.8</td>\n",
       "      <td>0.7</td>\n",
       "      <td>2725.175195</td>\n",
       "    </tr>\n",
       "    <tr>\n",
       "      <th>5</th>\n",
       "      <td>-7.3</td>\n",
       "      <td>-11.4</td>\n",
       "      <td>-2.5</td>\n",
       "      <td>0.3</td>\n",
       "      <td>2725.175195</td>\n",
       "    </tr>\n",
       "    <tr>\n",
       "      <th>6</th>\n",
       "      <td>-6.7</td>\n",
       "      <td>-11.2</td>\n",
       "      <td>-1.2</td>\n",
       "      <td>0.0</td>\n",
       "      <td>2831.007241</td>\n",
       "    </tr>\n",
       "    <tr>\n",
       "      <th>...</th>\n",
       "      <td>...</td>\n",
       "      <td>...</td>\n",
       "      <td>...</td>\n",
       "      <td>...</td>\n",
       "      <td>...</td>\n",
       "    </tr>\n",
       "    <tr>\n",
       "      <th>4024</th>\n",
       "      <td>-10.3</td>\n",
       "      <td>-14.3</td>\n",
       "      <td>-3.6</td>\n",
       "      <td>1.1</td>\n",
       "      <td>2976.000000</td>\n",
       "    </tr>\n",
       "    <tr>\n",
       "      <th>4025</th>\n",
       "      <td>-11.9</td>\n",
       "      <td>-16.3</td>\n",
       "      <td>-7.1</td>\n",
       "      <td>0.0</td>\n",
       "      <td>2982.000000</td>\n",
       "    </tr>\n",
       "    <tr>\n",
       "      <th>4028</th>\n",
       "      <td>-5.1</td>\n",
       "      <td>-9.2</td>\n",
       "      <td>-1.1</td>\n",
       "      <td>0.0</td>\n",
       "      <td>3019.000000</td>\n",
       "    </tr>\n",
       "    <tr>\n",
       "      <th>4029</th>\n",
       "      <td>-2.5</td>\n",
       "      <td>-8.9</td>\n",
       "      <td>3.1</td>\n",
       "      <td>0.4</td>\n",
       "      <td>3019.000000</td>\n",
       "    </tr>\n",
       "    <tr>\n",
       "      <th>4030</th>\n",
       "      <td>3.2</td>\n",
       "      <td>-4.0</td>\n",
       "      <td>10.1</td>\n",
       "      <td>0.0</td>\n",
       "      <td>3000.000000</td>\n",
       "    </tr>\n",
       "  </tbody>\n",
       "</table>\n",
       "<p>2832 rows × 5 columns</p>\n",
       "</div>"
      ],
      "text/plain": [
       "      avgTemp  minTemp  maxTemp  rainFall     avgPrice\n",
       "0        -4.9    -11.0      0.9       0.0  2808.517931\n",
       "3        -1.8     -5.1      2.2       5.9  2672.259172\n",
       "4        -5.2     -8.7     -1.8       0.7  2725.175195\n",
       "5        -7.3    -11.4     -2.5       0.3  2725.175195\n",
       "6        -6.7    -11.2     -1.2       0.0  2831.007241\n",
       "...       ...      ...      ...       ...          ...\n",
       "4024    -10.3    -14.3     -3.6       1.1  2976.000000\n",
       "4025    -11.9    -16.3     -7.1       0.0  2982.000000\n",
       "4028     -5.1     -9.2     -1.1       0.0  3019.000000\n",
       "4029     -2.5     -8.9      3.1       0.4  3019.000000\n",
       "4030      3.2     -4.0     10.1       0.0  3000.000000\n",
       "\n",
       "[2832 rows x 5 columns]"
      ]
     },
     "execution_count": 6,
     "metadata": {},
     "output_type": "execute_result"
    }
   ],
   "source": [
    "data"
   ]
  },
  {
   "cell_type": "code",
   "execution_count": 7,
   "metadata": {},
   "outputs": [
    {
     "data": {
      "text/html": [
       "<div>\n",
       "<style scoped>\n",
       "    .dataframe tbody tr th:only-of-type {\n",
       "        vertical-align: middle;\n",
       "    }\n",
       "\n",
       "    .dataframe tbody tr th {\n",
       "        vertical-align: top;\n",
       "    }\n",
       "\n",
       "    .dataframe thead th {\n",
       "        text-align: right;\n",
       "    }\n",
       "</style>\n",
       "<table border=\"1\" class=\"dataframe\">\n",
       "  <thead>\n",
       "    <tr style=\"text-align: right;\">\n",
       "      <th></th>\n",
       "      <th>avgTemp</th>\n",
       "      <th>minTemp</th>\n",
       "      <th>maxTemp</th>\n",
       "      <th>rainFall</th>\n",
       "    </tr>\n",
       "  </thead>\n",
       "  <tbody>\n",
       "    <tr>\n",
       "      <th>0</th>\n",
       "      <td>-4.9</td>\n",
       "      <td>-11.0</td>\n",
       "      <td>0.9</td>\n",
       "      <td>0.0</td>\n",
       "    </tr>\n",
       "    <tr>\n",
       "      <th>3</th>\n",
       "      <td>-1.8</td>\n",
       "      <td>-5.1</td>\n",
       "      <td>2.2</td>\n",
       "      <td>5.9</td>\n",
       "    </tr>\n",
       "    <tr>\n",
       "      <th>4</th>\n",
       "      <td>-5.2</td>\n",
       "      <td>-8.7</td>\n",
       "      <td>-1.8</td>\n",
       "      <td>0.7</td>\n",
       "    </tr>\n",
       "    <tr>\n",
       "      <th>5</th>\n",
       "      <td>-7.3</td>\n",
       "      <td>-11.4</td>\n",
       "      <td>-2.5</td>\n",
       "      <td>0.3</td>\n",
       "    </tr>\n",
       "    <tr>\n",
       "      <th>6</th>\n",
       "      <td>-6.7</td>\n",
       "      <td>-11.2</td>\n",
       "      <td>-1.2</td>\n",
       "      <td>0.0</td>\n",
       "    </tr>\n",
       "    <tr>\n",
       "      <th>...</th>\n",
       "      <td>...</td>\n",
       "      <td>...</td>\n",
       "      <td>...</td>\n",
       "      <td>...</td>\n",
       "    </tr>\n",
       "    <tr>\n",
       "      <th>4024</th>\n",
       "      <td>-10.3</td>\n",
       "      <td>-14.3</td>\n",
       "      <td>-3.6</td>\n",
       "      <td>1.1</td>\n",
       "    </tr>\n",
       "    <tr>\n",
       "      <th>4025</th>\n",
       "      <td>-11.9</td>\n",
       "      <td>-16.3</td>\n",
       "      <td>-7.1</td>\n",
       "      <td>0.0</td>\n",
       "    </tr>\n",
       "    <tr>\n",
       "      <th>4028</th>\n",
       "      <td>-5.1</td>\n",
       "      <td>-9.2</td>\n",
       "      <td>-1.1</td>\n",
       "      <td>0.0</td>\n",
       "    </tr>\n",
       "    <tr>\n",
       "      <th>4029</th>\n",
       "      <td>-2.5</td>\n",
       "      <td>-8.9</td>\n",
       "      <td>3.1</td>\n",
       "      <td>0.4</td>\n",
       "    </tr>\n",
       "    <tr>\n",
       "      <th>4030</th>\n",
       "      <td>3.2</td>\n",
       "      <td>-4.0</td>\n",
       "      <td>10.1</td>\n",
       "      <td>0.0</td>\n",
       "    </tr>\n",
       "  </tbody>\n",
       "</table>\n",
       "<p>2832 rows × 4 columns</p>\n",
       "</div>"
      ],
      "text/plain": [
       "      avgTemp  minTemp  maxTemp  rainFall\n",
       "0        -4.9    -11.0      0.9       0.0\n",
       "3        -1.8     -5.1      2.2       5.9\n",
       "4        -5.2     -8.7     -1.8       0.7\n",
       "5        -7.3    -11.4     -2.5       0.3\n",
       "6        -6.7    -11.2     -1.2       0.0\n",
       "...       ...      ...      ...       ...\n",
       "4024    -10.3    -14.3     -3.6       1.1\n",
       "4025    -11.9    -16.3     -7.1       0.0\n",
       "4028     -5.1     -9.2     -1.1       0.0\n",
       "4029     -2.5     -8.9      3.1       0.4\n",
       "4030      3.2     -4.0     10.1       0.0\n",
       "\n",
       "[2832 rows x 4 columns]"
      ]
     },
     "execution_count": 7,
     "metadata": {},
     "output_type": "execute_result"
    }
   ],
   "source": [
    "x = data.drop(['avgPrice'],axis=1)\n",
    "x"
   ]
  },
  {
   "cell_type": "code",
   "execution_count": 8,
   "metadata": {},
   "outputs": [],
   "source": [
    "y = data['avgPrice']"
   ]
  },
  {
   "cell_type": "code",
   "execution_count": 9,
   "metadata": {},
   "outputs": [
    {
     "data": {
      "text/plain": [
       "0       2808.517931\n",
       "3       2672.259172\n",
       "4       2725.175195\n",
       "5       2725.175195\n",
       "6       2831.007241\n",
       "           ...     \n",
       "4024    2976.000000\n",
       "4025    2982.000000\n",
       "4028    3019.000000\n",
       "4029    3019.000000\n",
       "4030    3000.000000\n",
       "Name: avgPrice, Length: 2832, dtype: float64"
      ]
     },
     "execution_count": 9,
     "metadata": {},
     "output_type": "execute_result"
    }
   ],
   "source": [
    "y"
   ]
  },
  {
   "cell_type": "code",
   "execution_count": 10,
   "metadata": {},
   "outputs": [],
   "source": [
    "from sklearn.ensemble import RandomForestClassifier\n",
    "from sklearn.model_selection import train_test_split\n",
    "from sklearn.linear_model import LinearRegression\n",
    "from sklearn.linear_model import LogisticRegression"
   ]
  },
  {
   "cell_type": "code",
   "execution_count": 11,
   "metadata": {},
   "outputs": [],
   "source": [
    "veg = LinearRegression(fit_intercept=True)"
   ]
  },
  {
   "cell_type": "code",
   "execution_count": 12,
   "metadata": {},
   "outputs": [
    {
     "data": {
      "text/plain": [
       "LinearRegression()"
      ]
     },
     "execution_count": 12,
     "metadata": {},
     "output_type": "execute_result"
    }
   ],
   "source": [
    "veg.fit(x,y)"
   ]
  },
  {
   "cell_type": "code",
   "execution_count": 24,
   "metadata": {},
   "outputs": [
    {
     "name": "stdout",
     "output_type": "stream",
     "text": [
      "평균기온 : -6.7\n",
      "최저기온 : -11.2\n",
      "최고기온 : -1.2\n",
      "강수량 : 0\n"
     ]
    }
   ],
   "source": [
    "avg_temp = float(input(\"평균기온 : \"))\n",
    "min_temp = float(input(\"최저기온 : \"))\n",
    "max_temp = float(input(\"최고기온 : \"))\n",
    "rain_fall= float(input(\"강수량 : \"))\n"
   ]
  },
  {
   "cell_type": "code",
   "execution_count": 25,
   "metadata": {},
   "outputs": [],
   "source": [
    "X = np.array([[avg_temp,min_temp,max_temp,rain_fall]])"
   ]
  },
  {
   "cell_type": "code",
   "execution_count": 26,
   "metadata": {
    "scrolled": true
   },
   "outputs": [
    {
     "data": {
      "text/plain": [
       "array([3407.03707095])"
      ]
     },
     "execution_count": 26,
     "metadata": {},
     "output_type": "execute_result"
    }
   ],
   "source": [
    "y_pred = veg.predict(X)\n",
    "y_pred"
   ]
  },
  {
   "cell_type": "code",
   "execution_count": null,
   "metadata": {},
   "outputs": [],
   "source": [
    "#Lasso로 하면 더 정확함"
   ]
  }
 ],
 "metadata": {
  "kernelspec": {
   "display_name": "Python 3",
   "language": "python",
   "name": "python3"
  },
  "language_info": {
   "codemirror_mode": {
    "name": "ipython",
    "version": 3
   },
   "file_extension": ".py",
   "mimetype": "text/x-python",
   "name": "python",
   "nbconvert_exporter": "python",
   "pygments_lexer": "ipython3",
   "version": "3.8.5"
  }
 },
 "nbformat": 4,
 "nbformat_minor": 4
}
