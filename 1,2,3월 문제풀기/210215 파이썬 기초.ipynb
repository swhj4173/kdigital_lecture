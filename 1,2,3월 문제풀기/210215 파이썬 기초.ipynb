{
 "cells": [
  {
   "cell_type": "code",
   "execution_count": 4,
   "id": "inner-entity",
   "metadata": {
    "ExecuteTime": {
     "end_time": "2021-02-15T08:15:52.569108Z",
     "start_time": "2021-02-15T08:15:49.093722Z"
    }
   },
   "outputs": [
    {
     "name": "stdout",
     "output_type": "stream",
     "text": [
      "x 값을 입력해주세요 : 20\n",
      "y 값을 입력해주세요 : 30\n"
     ]
    },
    {
     "data": {
      "text/plain": [
       "50"
      ]
     },
     "execution_count": 4,
     "metadata": {},
     "output_type": "execute_result"
    }
   ],
   "source": [
    "x = int(input(\"x 값을 입력해주세요 : \"))\n",
    "y = int(input(\"y 값을 입력해주세요 : \"))\n",
    "x+y"
   ]
  },
  {
   "cell_type": "code",
   "execution_count": 11,
   "id": "specific-crisis",
   "metadata": {
    "ExecuteTime": {
     "end_time": "2021-02-15T08:34:03.810084Z",
     "start_time": "2021-02-15T08:34:03.794101Z"
    }
   },
   "outputs": [],
   "source": [
    "def score():\n",
    "    a = int(input(\"첫번째 점수 : \"))\n",
    "    b = int(input(\"두번째 점수 : \"))\n",
    "    c = int(input(\"세번째 점수 : \"))\n",
    "    if (a>=65 and b>=65 and c>=65):\n",
    "        print(True)\n",
    "    else :\n",
    "        print(False)\n",
    "        return score()"
   ]
  },
  {
   "cell_type": "code",
   "execution_count": 12,
   "id": "dress-habitat",
   "metadata": {
    "ExecuteTime": {
     "end_time": "2021-02-15T08:34:11.705986Z",
     "start_time": "2021-02-15T08:34:05.322088Z"
    }
   },
   "outputs": [
    {
     "name": "stdout",
     "output_type": "stream",
     "text": [
      "첫번째 점수 : 20\n",
      "두번째 점수 : 70\n",
      "세번째 점수 : 80\n",
      "False\n",
      "첫번째 점수 : 70\n",
      "두번째 점수 : 80\n",
      "세번째 점수 : 90\n",
      "True\n"
     ]
    }
   ],
   "source": [
    "score()"
   ]
  },
  {
   "cell_type": "code",
   "execution_count": 14,
   "id": "acceptable-elder",
   "metadata": {
    "ExecuteTime": {
     "end_time": "2021-02-15T08:58:43.075077Z",
     "start_time": "2021-02-15T08:58:43.059120Z"
    }
   },
   "outputs": [
    {
     "name": "stdout",
     "output_type": "stream",
     "text": [
      "I am tom!\n"
     ]
    }
   ],
   "source": [
    "name = 'tom'\n",
    "print(\"I am \"+name+\"!\")"
   ]
  },
  {
   "cell_type": "code",
   "execution_count": 15,
   "id": "breathing-heading",
   "metadata": {
    "ExecuteTime": {
     "end_time": "2021-02-15T08:59:05.713605Z",
     "start_time": "2021-02-15T08:59:05.705628Z"
    }
   },
   "outputs": [
    {
     "name": "stdout",
     "output_type": "stream",
     "text": [
      "I am tom!\n"
     ]
    }
   ],
   "source": [
    "print(\"I am %s!\" % name)"
   ]
  },
  {
   "cell_type": "code",
   "execution_count": 16,
   "id": "exempt-connectivity",
   "metadata": {
    "ExecuteTime": {
     "end_time": "2021-02-15T09:05:29.182046Z",
     "start_time": "2021-02-15T09:05:29.163096Z"
    }
   },
   "outputs": [
    {
     "name": "stdout",
     "output_type": "stream",
     "text": [
      "I am        tom!\n"
     ]
    }
   ],
   "source": [
    "print(\"I am % 10s!\" % name) # %(공백) 추가하는 것"
   ]
  },
  {
   "cell_type": "code",
   "execution_count": 17,
   "id": "authentic-intro",
   "metadata": {
    "ExecuteTime": {
     "end_time": "2021-02-15T09:06:10.661265Z",
     "start_time": "2021-02-15T09:06:10.644338Z"
    }
   },
   "outputs": [
    {
     "name": "stdout",
     "output_type": "stream",
     "text": [
      "I like apple, banana!!\n"
     ]
    }
   ],
   "source": [
    "f1,f2 = \"apple\",\"banana\"\n",
    "print('I like %s, %s!!'%(f1,f2))\n"
   ]
  },
  {
   "cell_type": "code",
   "execution_count": 18,
   "id": "headed-timeline",
   "metadata": {
    "ExecuteTime": {
     "end_time": "2021-02-15T09:07:22.412330Z",
     "start_time": "2021-02-15T09:07:22.393380Z"
    }
   },
   "outputs": [
    {
     "name": "stdout",
     "output_type": "stream",
     "text": [
      "n1=3,n2=3.232300\n"
     ]
    }
   ],
   "source": [
    "n1,n2 = 3,3.2323\n",
    "print(\"n1=%d,n2=%f\"%(n1,n2))  # d=정수, f=실수"
   ]
  },
  {
   "cell_type": "code",
   "execution_count": 19,
   "id": "needed-liberia",
   "metadata": {
    "ExecuteTime": {
     "end_time": "2021-02-15T09:08:01.425663Z",
     "start_time": "2021-02-15T09:08:01.415688Z"
    }
   },
   "outputs": [
    {
     "name": "stdout",
     "output_type": "stream",
     "text": [
      "n2=3.23\n"
     ]
    }
   ],
   "source": [
    "print(\"n2=%.2f\"%n2)  # 소숫점 이하 자리수"
   ]
  },
  {
   "cell_type": "code",
   "execution_count": 31,
   "id": "synthetic-blade",
   "metadata": {
    "ExecuteTime": {
     "end_time": "2021-02-15T09:28:55.008485Z",
     "start_time": "2021-02-15T09:28:46.425810Z"
    }
   },
   "outputs": [
    {
     "name": "stdout",
     "output_type": "stream",
     "text": [
      "아무 문자나 입력해주세요 : 안녕하세요 반갑습니다.\n"
     ]
    },
    {
     "data": {
      "text/plain": [
       "'안녕하세요반갑습니다.'"
      ]
     },
     "execution_count": 31,
     "metadata": {},
     "output_type": "execute_result"
    }
   ],
   "source": [
    "a = input(\"아무 문자나 입력해주세요 : \")\n",
    "a.replace(\" \",\"\")"
   ]
  },
  {
   "cell_type": "code",
   "execution_count": 35,
   "id": "sound-checkout",
   "metadata": {
    "ExecuteTime": {
     "end_time": "2021-02-15T09:34:21.765940Z",
     "start_time": "2021-02-15T09:34:11.598927Z"
    }
   },
   "outputs": [
    {
     "name": "stdout",
     "output_type": "stream",
     "text": [
      "이름을 입력해 주세요 : 홍길동\n",
      "첫번째 점수를 입력해 주세요 : 5\n",
      "두번째 점수를 입력해 주세요 : 60\n",
      "세번째 점수를 입력해 주세요 : 50\n",
      "저의 이름은 홍길동 이고, 총점은 115입니다.\n"
     ]
    }
   ],
   "source": [
    "이름 = input(\"이름을 입력해 주세요 : \")\n",
    "첫번째점수 = int(input(\"첫번째 점수를 입력해 주세요 : \"))\n",
    "두번째점수 = int(input(\"두번째 점수를 입력해 주세요 : \"))\n",
    "세번째점수 = int(input(\"세번째 점수를 입력해 주세요 : \"))\n",
    "print(\"저의 이름은 {} 이고, 총점은 {}입니다.\".format(이름,첫번째점수+두번째점수+세번째점수))"
   ]
  },
  {
   "cell_type": "code",
   "execution_count": 36,
   "id": "english-italic",
   "metadata": {
    "ExecuteTime": {
     "end_time": "2021-02-15T09:36:30.451356Z",
     "start_time": "2021-02-15T09:36:30.443378Z"
    }
   },
   "outputs": [
    {
     "data": {
      "text/plain": [
       "list"
      ]
     },
     "execution_count": 36,
     "metadata": {},
     "output_type": "execute_result"
    }
   ],
   "source": [
    "a = [1,2,3,4,5,6,7]\n",
    "a = [1,'apple',3.14,False]\n",
    "type(a)"
   ]
  },
  {
   "cell_type": "code",
   "execution_count": 39,
   "id": "material-latter",
   "metadata": {
    "ExecuteTime": {
     "end_time": "2021-02-15T09:42:39.126000Z",
     "start_time": "2021-02-15T09:42:39.120017Z"
    }
   },
   "outputs": [],
   "source": [
    "b = [[1,2],[3,4],[5,6]]"
   ]
  },
  {
   "cell_type": "code",
   "execution_count": 40,
   "id": "integrated-stupid",
   "metadata": {
    "ExecuteTime": {
     "end_time": "2021-02-15T09:42:45.068514Z",
     "start_time": "2021-02-15T09:42:45.049576Z"
    }
   },
   "outputs": [
    {
     "data": {
      "text/plain": [
       "2"
      ]
     },
     "execution_count": 40,
     "metadata": {},
     "output_type": "execute_result"
    }
   ],
   "source": [
    "b[0][1]"
   ]
  },
  {
   "cell_type": "code",
   "execution_count": null,
   "id": "framed-element",
   "metadata": {},
   "outputs": [],
   "source": [
    "c = [2,4,6,8,10,10]"
   ]
  }
 ],
 "metadata": {
  "kernelspec": {
   "display_name": "Python 3",
   "language": "python",
   "name": "python3"
  },
  "language_info": {
   "codemirror_mode": {
    "name": "ipython",
    "version": 3
   },
   "file_extension": ".py",
   "mimetype": "text/x-python",
   "name": "python",
   "nbconvert_exporter": "python",
   "pygments_lexer": "ipython3",
   "version": "3.8.5"
  },
  "toc": {
   "base_numbering": 1,
   "nav_menu": {},
   "number_sections": true,
   "sideBar": true,
   "skip_h1_title": false,
   "title_cell": "Table of Contents",
   "title_sidebar": "Contents",
   "toc_cell": false,
   "toc_position": {},
   "toc_section_display": true,
   "toc_window_display": false
  },
  "varInspector": {
   "cols": {
    "lenName": 16,
    "lenType": 16,
    "lenVar": 40
   },
   "kernels_config": {
    "python": {
     "delete_cmd_postfix": "",
     "delete_cmd_prefix": "del ",
     "library": "var_list.py",
     "varRefreshCmd": "print(var_dic_list())"
    },
    "r": {
     "delete_cmd_postfix": ") ",
     "delete_cmd_prefix": "rm(",
     "library": "var_list.r",
     "varRefreshCmd": "cat(var_dic_list()) "
    }
   },
   "types_to_exclude": [
    "module",
    "function",
    "builtin_function_or_method",
    "instance",
    "_Feature"
   ],
   "window_display": false
  }
 },
 "nbformat": 4,
 "nbformat_minor": 5
}
