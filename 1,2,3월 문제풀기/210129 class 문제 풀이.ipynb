{
 "cells": [
  {
   "cell_type": "code",
   "execution_count": 8,
   "metadata": {},
   "outputs": [],
   "source": [
    "# 래원 부모 클래스 생성\n",
    "class Layone :\n",
    "    def __init__(self,power,album):\n",
    "        self.power=power\n",
    "        self.instagram=instagram\n",
    "        self.album=album\n",
    "    def instagram(self):\n",
    "        self.power = self.power -15#*instagram\n",
    "        print(self.power)       \n",
    "    def rest(self):\n",
    "        self.power = self.power + 200\n",
    "        print(self.power)       \n",
    "    def album(self,album):\n",
    "        self.power = self.power + 10*album\n",
    "        print(self.power)\n",
    "    def negative(self,negative):\n",
    "        self.power = self.power - 15*negative\n",
    "    def hp(self):\n",
    "        print(\"래원원래 체력:\",self.power, \" / 방송 후 체력:\",self.instagram, \"으로 떨어짐\", \" / 앨범판매 후 체력:\",self.album, \"으로 힘난다^^\", \"쉬고나니 \", self.rest, \"으로 체력 충전!\")\n",
    "# 다영 자식 클래스 생성(상속)        \n",
    "class dayoung(Layone):\n",
    "    def __init__(self,layonesong,rest,coding,hoho):\n",
    "        self.layonesong = layonesong\n",
    "        self.rest = rest\n",
    "        self.coding = coding\n",
    "        self.hoho = hoho\n",
    "    def layonesong(self,layonesong):\n",
    "        self.power = self.power + 40*layonesong\n",
    "    def coding(self,coding):\n",
    "        self.power = self.power -20*coding\n",
    "    def hoho(self,hoho):\n",
    "        self.power = self.power -30*hoho\n",
    "    def hp(self):\n",
    "        print(\"래원노래로 힘\",self.layonesong, \" 충전!\", \"쉬고나니 \", self.rest, \"괜찮아짐\", \"코딩하면 \", self.coding, \"으로 체력 떨어짐\", \"황티처 꾸지람으로 \", self.hoho, \" 사기저하\")"
   ]
  },
  {
   "cell_type": "code",
   "execution_count": 9,
   "metadata": {
    "scrolled": true
   },
   "outputs": [
    {
     "name": "stdout",
     "output_type": "stream",
     "text": [
      "1200\n",
      "래원원래 체력: 1200  / 방송 후 체력: 30 으로 떨어짐  / 앨범판매 후 체력: 20 으로 힘난다^^ 쉬고나니  <bound method Layone.rest of <__main__.Layone object at 0x00000263C1F339D0>> 으로 체력 충전!\n"
     ]
    }
   ],
   "source": [
    "dayoung = Layone(1000,30,20)\n",
    "dayoung.rest()\n",
    "dayoung.hp()"
   ]
  },
  {
   "cell_type": "code",
   "execution_count": null,
   "metadata": {},
   "outputs": [],
   "source": []
  }
 ],
 "metadata": {
  "kernelspec": {
   "display_name": "Python 3",
   "language": "python",
   "name": "python3"
  },
  "language_info": {
   "codemirror_mode": {
    "name": "ipython",
    "version": 3
   },
   "file_extension": ".py",
   "mimetype": "text/x-python",
   "name": "python",
   "nbconvert_exporter": "python",
   "pygments_lexer": "ipython3",
   "version": "3.8.5"
  }
 },
 "nbformat": 4,
 "nbformat_minor": 4
}
