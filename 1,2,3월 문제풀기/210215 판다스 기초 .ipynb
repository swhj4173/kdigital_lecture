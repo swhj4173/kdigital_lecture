{
 "cells": [
  {
   "cell_type": "code",
   "execution_count": 1,
   "metadata": {},
   "outputs": [],
   "source": [
    "a=[1,2,3,4,5]"
   ]
  },
  {
   "cell_type": "code",
   "execution_count": 2,
   "metadata": {},
   "outputs": [],
   "source": [
    "a.append(6)"
   ]
  },
  {
   "cell_type": "code",
   "execution_count": 3,
   "metadata": {},
   "outputs": [
    {
     "data": {
      "text/plain": [
       "[1, 2, 3, 4, 5, 6]"
      ]
     },
     "execution_count": 3,
     "metadata": {},
     "output_type": "execute_result"
    }
   ],
   "source": [
    "a"
   ]
  },
  {
   "cell_type": "code",
   "execution_count": 11,
   "metadata": {},
   "outputs": [
    {
     "name": "stdout",
     "output_type": "stream",
     "text": [
      "숫자를 입력해 주세요 : 10\n",
      "0\n",
      "2\n",
      "4\n",
      "6\n",
      "8\n"
     ]
    }
   ],
   "source": [
    "num = int(input(\"숫자를 입력해 주세요 : \"))\n",
    "new = []\n",
    "for i in range(num):\n",
    "    if i %2 ==0:\n",
    "        print(i)\n",
    "    else :\n",
    "        pass\n",
    "new.append(i)"
   ]
  },
  {
   "cell_type": "code",
   "execution_count": 12,
   "metadata": {},
   "outputs": [],
   "source": [
    "# num = input(\"숫자를 입력해주세요 :\")\n",
    "# result = list(range(2,int(num)+1, 2))\n",
    "# result.append(int(num))"
   ]
  },
  {
   "cell_type": "code",
   "execution_count": 16,
   "metadata": {},
   "outputs": [
    {
     "name": "stdout",
     "output_type": "stream",
     "text": [
      "이름을 입력해주세요 : 강다영\n",
      "나이를 입력해주세요 : 27\n",
      "연락처 입력해주세요 : 01032740610\n"
     ]
    }
   ],
   "source": [
    "name = input(\"이름을 입력해주세요 : \")\n",
    "age = input(\"나이를 입력해주세요 : \")\n",
    "phone = input(\"연락처 입력해주세요 : \")\n",
    "di= dict(이름=name,나이=age,번호=phone)"
   ]
  },
  {
   "cell_type": "code",
   "execution_count": 20,
   "metadata": {
    "scrolled": true
   },
   "outputs": [
    {
     "name": "stdout",
     "output_type": "stream",
     "text": [
      "이름을 입력해주세요 : 강다\n",
      "나이를 입력해주세요 : 23\n",
      "연락처 입력해주세요 : 2349494949494\n"
     ]
    }
   ],
   "source": [
    "name = input(\"이름을 입력해주세요 : \")\n",
    "age = input(\"나이를 입력해주세요 : \")\n",
    "phone = input(\"연락처 입력해주세요 : \")\n",
    "di2= dict(이름=name,나이=age,번호=phone)"
   ]
  },
  {
   "cell_type": "code",
   "execution_count": 17,
   "metadata": {},
   "outputs": [
    {
     "data": {
      "text/plain": [
       "{'이름': '강다영', '나이': '27', '번호': '01032740610'}"
      ]
     },
     "execution_count": 17,
     "metadata": {},
     "output_type": "execute_result"
    }
   ],
   "source": [
    "di"
   ]
  },
  {
   "cell_type": "code",
   "execution_count": 18,
   "metadata": {},
   "outputs": [],
   "source": [
    "new_list = []\n",
    "new_list.append(di)"
   ]
  },
  {
   "cell_type": "code",
   "execution_count": 21,
   "metadata": {},
   "outputs": [],
   "source": [
    "new_list.append(di2)"
   ]
  },
  {
   "cell_type": "code",
   "execution_count": 22,
   "metadata": {},
   "outputs": [
    {
     "data": {
      "text/plain": [
       "[{'이름': '강다영', '나이': '27', '번호': '01032740610'},\n",
       " {'이름': '강다', '나이': '23', '번호': '2349494949494'}]"
      ]
     },
     "execution_count": 22,
     "metadata": {},
     "output_type": "execute_result"
    }
   ],
   "source": [
    "new_list"
   ]
  },
  {
   "cell_type": "code",
   "execution_count": 23,
   "metadata": {},
   "outputs": [],
   "source": [
    "fruit = ['사과','오렌지']\n",
    "vegetable = ['당근','호박']\n"
   ]
  },
  {
   "cell_type": "code",
   "execution_count": 29,
   "metadata": {},
   "outputs": [
    {
     "name": "stdout",
     "output_type": "stream",
     "text": [
      "등록할 카테고리를 선택해주세요(과일,채소) : 과일\n",
      "등록할 과일를 입력해주세요 : 바나나\n",
      "['당근', '호박', '오이', '파', '바나나']\n",
      "['사과', '오렌지', '바나나']\n"
     ]
    }
   ],
   "source": [
    "cate = input(\"등록할 카테고리를 선택해주세요(과일,채소) : \")\n",
    "chche = input(\"등록할 {}를 입력해주세요 : \".format(cate))\n",
    "if cate in ['과일','채소']:\n",
    "    \n",
    "    if chche in vegetable:\n",
    "        print(\"이미 등록된 {}입니다.\".format(cate))\n",
    "    else : \n",
    "        vegetable.append(chche)\n",
    "        print(vegetable)\n",
    "    if chche in fruit:\n",
    "        print(\"이미 등록된 {}입니다.\".format(cate))\n",
    "    else : \n",
    "        fruit.append(chche)\n",
    "        print(fruit)\n",
    "else :\n",
    "    print(\"존재하지 않는 카테고리입니다.\")"
   ]
  },
  {
   "cell_type": "code",
   "execution_count": 30,
   "metadata": {},
   "outputs": [
    {
     "name": "stdout",
     "output_type": "stream",
     "text": [
      "Orange"
     ]
    }
   ],
   "source": [
    "for i in 'Orange':\n",
    "    print(i,end=\"\")"
   ]
  },
  {
   "cell_type": "code",
   "execution_count": 31,
   "metadata": {},
   "outputs": [],
   "source": [
    "a = {\"name\":\"tom\",\"math\":80,\"english\":70}"
   ]
  },
  {
   "cell_type": "code",
   "execution_count": 35,
   "metadata": {},
   "outputs": [
    {
     "name": "stdout",
     "output_type": "stream",
     "text": [
      "name tom\n",
      "math 80\n",
      "english 70\n"
     ]
    }
   ],
   "source": [
    "for i in a :\n",
    "    print(i,end=\" \")\n",
    "    print(a[i])"
   ]
  },
  {
   "cell_type": "code",
   "execution_count": 36,
   "metadata": {},
   "outputs": [
    {
     "name": "stdout",
     "output_type": "stream",
     "text": [
      "*************************************** 0\n",
      "j :  0\n",
      "j :  1\n",
      "j :  2\n",
      "j :  3\n",
      "j :  4\n",
      "*************************************** 1\n",
      "j :  0\n",
      "j :  1\n",
      "j :  2\n",
      "j :  3\n",
      "j :  4\n",
      "*************************************** 2\n",
      "j :  0\n",
      "j :  1\n",
      "j :  2\n",
      "j :  3\n",
      "j :  4\n",
      "*************************************** 3\n",
      "j :  0\n",
      "j :  1\n",
      "j :  2\n",
      "j :  3\n",
      "j :  4\n",
      "*************************************** 4\n",
      "j :  0\n",
      "j :  1\n",
      "j :  2\n",
      "j :  3\n",
      "j :  4\n"
     ]
    }
   ],
   "source": [
    "for i in range(0,5):\n",
    "    print(\"***************************************\",i)\n",
    "    for j in range(0,5):\n",
    "        print(\"j : \",j)"
   ]
  },
  {
   "cell_type": "code",
   "execution_count": 37,
   "metadata": {},
   "outputs": [],
   "source": [
    "x = [3,6,9,20,-7,5]"
   ]
  },
  {
   "cell_type": "code",
   "execution_count": 40,
   "metadata": {},
   "outputs": [
    {
     "name": "stdout",
     "output_type": "stream",
     "text": [
      "30\n",
      "60\n",
      "90\n",
      "20000\n",
      "-70\n",
      "50\n"
     ]
    }
   ],
   "source": [
    "for i in range(len(x)) :\n",
    "    x[i] = x[i]*10\n",
    "    print(x[i])"
   ]
  },
  {
   "cell_type": "code",
   "execution_count": 41,
   "metadata": {},
   "outputs": [],
   "source": [
    "y = {\"math\":70,\"science\":80,\"english\":20}"
   ]
  },
  {
   "cell_type": "code",
   "execution_count": 44,
   "metadata": {},
   "outputs": [
    {
     "name": "stdout",
     "output_type": "stream",
     "text": [
      "math 80\n",
      "science 90\n",
      "english 30\n"
     ]
    }
   ],
   "source": [
    "for key,value in y.items():\n",
    "    print(key, value+10)\n",
    "    "
   ]
  },
  {
   "cell_type": "code",
   "execution_count": 47,
   "metadata": {},
   "outputs": [
    {
     "name": "stdout",
     "output_type": "stream",
     "text": [
      "몇 단을 출력하시겠습니까?3\n",
      "3*1=3\n",
      "3*2=6\n",
      "3*3=9\n",
      "3*4=12\n",
      "3*5=15\n",
      "3*6=18\n",
      "3*7=21\n",
      "3*8=24\n",
      "3*9=27\n"
     ]
    }
   ],
   "source": [
    "dan = int(input(\"몇 단을 출력하시겠습니까?\"))\n",
    "for i in range(1,10):\n",
    "    print(\"{}*{}={}\".format(dan,i,dan*i))"
   ]
  },
  {
   "cell_type": "code",
   "execution_count": 48,
   "metadata": {},
   "outputs": [],
   "source": [
    "words = [\"school\",\"game\",\"piano\",\"science\",\"hotel\",\"mountain\"]"
   ]
  },
  {
   "cell_type": "code",
   "execution_count": 54,
   "metadata": {},
   "outputs": [
    {
     "name": "stdout",
     "output_type": "stream",
     "text": [
      "school\n",
      "science\n",
      "mountain\n"
     ]
    }
   ],
   "source": [
    "new = []\n",
    "for word in range(len(words)):\n",
    "    a=words[word]\n",
    "    if len(a)>=6:\n",
    "        print(a)\n",
    "new.append(a)"
   ]
  },
  {
   "cell_type": "code",
   "execution_count": 55,
   "metadata": {},
   "outputs": [
    {
     "data": {
      "text/plain": [
       "['mountain']"
      ]
     },
     "execution_count": 55,
     "metadata": {},
     "output_type": "execute_result"
    }
   ],
   "source": [
    "new"
   ]
  },
  {
   "cell_type": "code",
   "execution_count": 56,
   "metadata": {},
   "outputs": [
    {
     "name": "stdout",
     "output_type": "stream",
     "text": [
      "1*1=1\n",
      "1*2=2\n",
      "1*3=3\n",
      "1*4=4\n",
      "1*5=5\n",
      "1*6=6\n",
      "1*7=7\n",
      "1*8=8\n",
      "1*9=9\n",
      "2*1=2\n",
      "2*2=4\n",
      "2*3=6\n",
      "2*4=8\n",
      "2*5=10\n",
      "2*6=12\n",
      "2*7=14\n",
      "2*8=16\n",
      "2*9=18\n",
      "3*1=3\n",
      "3*2=6\n",
      "3*3=9\n",
      "3*4=12\n",
      "3*5=15\n",
      "3*6=18\n",
      "3*7=21\n",
      "3*8=24\n",
      "3*9=27\n",
      "4*1=4\n",
      "4*2=8\n",
      "4*3=12\n",
      "4*4=16\n",
      "4*5=20\n",
      "4*6=24\n",
      "4*7=28\n",
      "4*8=32\n",
      "4*9=36\n",
      "5*1=5\n",
      "5*2=10\n",
      "5*3=15\n",
      "5*4=20\n",
      "5*5=25\n",
      "5*6=30\n",
      "5*7=35\n",
      "5*8=40\n",
      "5*9=45\n",
      "6*1=6\n",
      "6*2=12\n",
      "6*3=18\n",
      "6*4=24\n",
      "6*5=30\n",
      "6*6=36\n",
      "6*7=42\n",
      "6*8=48\n",
      "6*9=54\n",
      "7*1=7\n",
      "7*2=14\n",
      "7*3=21\n",
      "7*4=28\n",
      "7*5=35\n",
      "7*6=42\n",
      "7*7=49\n",
      "7*8=56\n",
      "7*9=63\n",
      "8*1=8\n",
      "8*2=16\n",
      "8*3=24\n",
      "8*4=32\n",
      "8*5=40\n",
      "8*6=48\n",
      "8*7=56\n",
      "8*8=64\n",
      "8*9=72\n",
      "9*1=9\n",
      "9*2=18\n",
      "9*3=27\n",
      "9*4=36\n",
      "9*5=45\n",
      "9*6=54\n",
      "9*7=63\n",
      "9*8=72\n",
      "9*9=81\n"
     ]
    }
   ],
   "source": [
    "for i in range(1,10):\n",
    "    for j in range(1,10):\n",
    "        print(\"{}*{}={}\".format(i,j,i*j))"
   ]
  },
  {
   "cell_type": "code",
   "execution_count": 59,
   "metadata": {},
   "outputs": [
    {
     "name": "stdout",
     "output_type": "stream",
     "text": [
      "1\n",
      "2\n",
      "3의 배수\n",
      "4\n",
      "5의 배수\n",
      "3의 배수\n",
      "7\n",
      "8\n",
      "3의 배수\n",
      "5의 배수\n",
      "11\n",
      "3의 배수\n",
      "13\n",
      "14\n",
      "3과 5의 공배수\n",
      "16\n",
      "17\n",
      "3의 배수\n",
      "19\n",
      "5의 배수\n",
      "3의 배수\n",
      "22\n",
      "23\n",
      "3의 배수\n",
      "5의 배수\n",
      "26\n",
      "3의 배수\n",
      "28\n",
      "29\n",
      "3과 5의 공배수\n",
      "31\n",
      "32\n",
      "3의 배수\n",
      "34\n",
      "5의 배수\n",
      "3의 배수\n",
      "37\n",
      "38\n",
      "3의 배수\n",
      "5의 배수\n",
      "41\n",
      "3의 배수\n",
      "43\n",
      "44\n",
      "3과 5의 공배수\n",
      "46\n",
      "47\n",
      "3의 배수\n",
      "49\n",
      "5의 배수\n",
      "3의 배수\n",
      "52\n",
      "53\n",
      "3의 배수\n",
      "5의 배수\n",
      "56\n",
      "3의 배수\n",
      "58\n",
      "59\n",
      "3과 5의 공배수\n",
      "61\n",
      "62\n",
      "3의 배수\n",
      "64\n",
      "5의 배수\n",
      "3의 배수\n",
      "67\n",
      "68\n",
      "3의 배수\n",
      "5의 배수\n",
      "71\n",
      "3의 배수\n",
      "73\n",
      "74\n",
      "3과 5의 공배수\n",
      "76\n",
      "77\n",
      "3의 배수\n",
      "79\n",
      "5의 배수\n",
      "3의 배수\n",
      "82\n",
      "83\n",
      "3의 배수\n",
      "5의 배수\n",
      "86\n",
      "3의 배수\n",
      "88\n",
      "89\n",
      "3과 5의 공배수\n",
      "91\n",
      "92\n",
      "3의 배수\n",
      "94\n",
      "5의 배수\n",
      "3의 배수\n",
      "97\n",
      "98\n",
      "3의 배수\n",
      "5의 배수\n"
     ]
    }
   ],
   "source": [
    "for i in range(1,101):\n",
    "    if i%3==0 and i%5==0:\n",
    "        print(\"3과 5의 공배수\")\n",
    "    elif i%5==0:\n",
    "        print(\"5의 배수\")\n",
    "    elif i%3==0:\n",
    "        print(\"3의 배수\")\n",
    "    else :\n",
    "        print(i)"
   ]
  },
  {
   "cell_type": "code",
   "execution_count": 60,
   "metadata": {},
   "outputs": [
    {
     "name": "stdout",
     "output_type": "stream",
     "text": [
      "반복횟수?5\n",
      "입력한 횟수만큼 반복\n",
      "입력한 횟수만큼 반복\n",
      "입력한 횟수만큼 반복\n",
      "입력한 횟수만큼 반복\n",
      "입력한 횟수만큼 반복\n"
     ]
    }
   ],
   "source": [
    "count = int(input(\"반복횟수?\"))\n",
    "i = 0\n",
    "while i <count:\n",
    "    print(\"입력한 횟수만큼 반복\")\n",
    "    i +=1"
   ]
  },
  {
   "cell_type": "code",
   "execution_count": 62,
   "metadata": {},
   "outputs": [
    {
     "name": "stdout",
     "output_type": "stream",
     "text": [
      "5를 입력하며너 반복이 중단됩니다.3\n",
      "5를 입력하며너 반복이 중단됩니다.4\n",
      "5를 입력하며너 반복이 중단됩니다.5\n",
      "중단!\n"
     ]
    }
   ],
   "source": [
    "i = 0\n",
    "while i !=5:\n",
    "    i = int(input(\"5를 입력하며너 반복이 중단됩니다.\"))\n",
    "print(\"중단!\")"
   ]
  },
  {
   "cell_type": "code",
   "execution_count": 64,
   "metadata": {},
   "outputs": [
    {
     "name": "stdout",
     "output_type": "stream",
     "text": [
      "값을 입력 : 30\n",
      "값을 입력 : 40\n",
      "값을 입력 : 20\n",
      "값을 입력 : 30\n",
      "값을 입력 : 0\n",
      "합계는 ? 120\n"
     ]
    }
   ],
   "source": [
    "i = -1\n",
    "summ = 0\n",
    "while i !=0:\n",
    "    i = int(input(\"값을 입력 : \"))\n",
    "    summ = i + summ\n",
    "print(\"합계는 ? {}\".format(summ))"
   ]
  },
  {
   "cell_type": "code",
   "execution_count": 65,
   "metadata": {},
   "outputs": [],
   "source": [
    "import random"
   ]
  },
  {
   "cell_type": "code",
   "execution_count": 68,
   "metadata": {},
   "outputs": [],
   "source": [
    "win = 0\n",
    "total = 0"
   ]
  },
  {
   "cell_type": "code",
   "execution_count": 69,
   "metadata": {},
   "outputs": [
    {
     "name": "stdout",
     "output_type": "stream",
     "text": [
      "게임종료(전체 : 0, 승리 : 0)\n"
     ]
    }
   ],
   "source": [
    "while i ==1 or i ==2 or i ==3 :\n",
    "    user = int(input(\"가위(1),바위(2),보(3)을 입력해주세요 : \"))\n",
    "    computer = random.randint(1,3)\n",
    "    if user ==1 and computer ==3 :\n",
    "        win +=1\n",
    "    elif user ==2 and computer ==1:\n",
    "        win +=1\n",
    "    elif user ==3 and computer ==2:\n",
    "        win +=1\n",
    "    else:\n",
    "        total +=1\n",
    "print(\"게임종료(전체 : {}, 승리 : {})\".format(total,win))"
   ]
  },
  {
   "cell_type": "code",
   "execution_count": null,
   "metadata": {},
   "outputs": [],
   "source": []
  }
 ],
 "metadata": {
  "kernelspec": {
   "display_name": "Python 3",
   "language": "python",
   "name": "python3"
  },
  "language_info": {
   "codemirror_mode": {
    "name": "ipython",
    "version": 3
   },
   "file_extension": ".py",
   "mimetype": "text/x-python",
   "name": "python",
   "nbconvert_exporter": "python",
   "pygments_lexer": "ipython3",
   "version": "3.8.5"
  }
 },
 "nbformat": 4,
 "nbformat_minor": 4
}
