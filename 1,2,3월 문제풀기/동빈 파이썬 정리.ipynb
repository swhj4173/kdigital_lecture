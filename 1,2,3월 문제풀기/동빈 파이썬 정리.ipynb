{
 "cells": [
  {
   "cell_type": "code",
   "execution_count": 1,
   "metadata": {},
   "outputs": [
    {
     "name": "stdout",
     "output_type": "stream",
     "text": [
      "정수를 입력하세요 ; 3\n",
      "제곱 :  9\n"
     ]
    }
   ],
   "source": [
    "# input() : 사용자로부터 콘솔로 입력을 받는 함수\n",
    "# int() : 정수 자료형으로 변환\n",
    "# float(): 문자열, 정수 등의 자료형을 실수형으로 변환\n",
    "# max(), min() : 시퀀스 자료형에 포함되어 있는 원소 중 최대값 혹은 최소값\n",
    "# bin(), hex() : 10진수를 2진수로 변환, 10진수를 16진수로 변환\n",
    "# round() : 반올림 수행\n",
    "# type() : 자료형의 종류\n",
    "\n",
    "user_input = input('정수를 입력하세요 ; ')\n",
    "print(\"제곱 : \",int(user_input)**2)"
   ]
  },
  {
   "cell_type": "code",
   "execution_count": 2,
   "metadata": {},
   "outputs": [
    {
     "name": "stdout",
     "output_type": "stream",
     "text": [
      "12345\n",
      "12\n"
     ]
    }
   ],
   "source": [
    "a = '12345'\n",
    "print(int(a))\n",
    "\n",
    "b =12.5\n",
    "print(int(b))"
   ]
  },
  {
   "cell_type": "code",
   "execution_count": 3,
   "metadata": {},
   "outputs": [
    {
     "name": "stdout",
     "output_type": "stream",
     "text": [
      "12345.0\n"
     ]
    }
   ],
   "source": [
    "e = 10\n",
    "print(float(a))"
   ]
  },
  {
   "cell_type": "code",
   "execution_count": 4,
   "metadata": {},
   "outputs": [
    {
     "name": "stdout",
     "output_type": "stream",
     "text": [
      "9\n",
      "1\n"
     ]
    }
   ],
   "source": [
    "list = [5,6,3,2,9,8,4,1,7]\n",
    "print(max(list))\n",
    "print(min(list))"
   ]
  },
  {
   "cell_type": "code",
   "execution_count": 5,
   "metadata": {},
   "outputs": [
    {
     "name": "stdout",
     "output_type": "stream",
     "text": [
      "0b10000000\n",
      "0xe6\n"
     ]
    }
   ],
   "source": [
    "print(bin(128))\n",
    "print(hex(230))"
   ]
  },
  {
   "cell_type": "code",
   "execution_count": 6,
   "metadata": {},
   "outputs": [
    {
     "name": "stdout",
     "output_type": "stream",
     "text": [
      "230\n"
     ]
    }
   ],
   "source": [
    "print(int('0xe6',16))"
   ]
  },
  {
   "cell_type": "code",
   "execution_count": 7,
   "metadata": {},
   "outputs": [
    {
     "name": "stdout",
     "output_type": "stream",
     "text": [
      "<class 'int'>\n",
      "<class 'str'>\n",
      "<class 'list'>\n",
      "<class 'dict'>\n"
     ]
    }
   ],
   "source": [
    "int = 1\n",
    "str = '문자열'\n",
    "list = [1,2,3]\n",
    "dict = {'apple':'사과'}\n",
    "print(type(int))\n",
    "print(type(str))\n",
    "print(type(list))\n",
    "print(type(dict))"
   ]
  },
  {
   "cell_type": "code",
   "execution_count": 8,
   "metadata": {},
   "outputs": [
    {
     "name": "stdout",
     "output_type": "stream",
     "text": [
      "dlroW olleH\n"
     ]
    }
   ],
   "source": [
    "# 문자열 자료형 뒤집기 : 슬라이싱 활용\n",
    "# len() : 문자열의 길이 출력\n",
    "# isalpha() : 특정한 문자열이 문자로만 이루어져 있는지 확인\n",
    "# isdigit() : 특정한 문자열이 숫자로만 이루어져 있는지 확인\n",
    "# isalnum() : 특정한 문자열이 문자와 숫자로만 이뤄어져 있는지 확인\n",
    "# join(리스트 자료형): 여러개의 문자열을 구분자와 함께 합치는 함수\n",
    "# sorted(문자열 자료형) : 각 문자를 정렬하는 함수\n",
    "# split(토큰): 문자열을 토큰에 따라서 분리하는 함수\n",
    "# find(서브 문자열) : 문자열 내부에 존재하는 서브 문자열 찾아주는 함ㅁ수\n",
    "# upper(), lower() : 문자열을 대문자 혹은 소문자로 변환해주는 함수\n",
    "# strip() : 좌우로 특정한 문자열을 제거하는 함수 \n",
    "# eval() : 문자열 수식 계산해주는 함수\n",
    "\n",
    "str = 'Hello World'\n",
    "print(str[::-1])"
   ]
  },
  {
   "cell_type": "code",
   "execution_count": 10,
   "metadata": {},
   "outputs": [
    {
     "name": "stdout",
     "output_type": "stream",
     "text": [
      "False\n"
     ]
    }
   ],
   "source": [
    "print(str.isalpha())  # 문자로만 이뤄졌는지 확인했는데 띄어쓰기 포함됨 >> False"
   ]
  },
  {
   "cell_type": "code",
   "execution_count": 11,
   "metadata": {},
   "outputs": [
    {
     "name": "stdout",
     "output_type": "stream",
     "text": [
      "hello_wolrd_홍길동\n"
     ]
    }
   ],
   "source": [
    "list = ['hello','wolrd','홍길동']\n",
    "print('_'.join(list))"
   ]
  },
  {
   "cell_type": "code",
   "execution_count": 12,
   "metadata": {},
   "outputs": [],
   "source": [
    "str = 'helloworld'\n",
    "list = sorted(str)"
   ]
  },
  {
   "cell_type": "code",
   "execution_count": 13,
   "metadata": {},
   "outputs": [
    {
     "name": "stdout",
     "output_type": "stream",
     "text": [
      "['d', 'e', 'h', 'l', 'l', 'l', 'o', 'o', 'r', 'w']\n"
     ]
    }
   ],
   "source": [
    "print(list)"
   ]
  },
  {
   "cell_type": "code",
   "execution_count": 14,
   "metadata": {},
   "outputs": [
    {
     "name": "stdout",
     "output_type": "stream",
     "text": [
      "dehllloorw\n"
     ]
    }
   ],
   "source": [
    "print(''.join(list))"
   ]
  },
  {
   "cell_type": "code",
   "execution_count": 16,
   "metadata": {},
   "outputs": [
    {
     "name": "stdout",
     "output_type": "stream",
     "text": [
      "['i', 'want', 'to', 'watch', 'a', 'movie']\n"
     ]
    }
   ],
   "source": [
    "str = 'i want to watch a movie'\n",
    "list = str.split(' ')\n",
    "print(list)"
   ]
  },
  {
   "cell_type": "code",
   "execution_count": 18,
   "metadata": {},
   "outputs": [
    {
     "name": "stdout",
     "output_type": "stream",
     "text": [
      "2\n"
     ]
    }
   ],
   "source": [
    "str = 'i like you'\n",
    "print(str.find('like')) #find 하면 단어의 위치 인덱스를 말해준다."
   ]
  },
  {
   "cell_type": "code",
   "execution_count": 19,
   "metadata": {},
   "outputs": [
    {
     "name": "stdout",
     "output_type": "stream",
     "text": [
      "hello world\n"
     ]
    }
   ],
   "source": [
    "str = 'hello world'\n",
    "print(str.strip())"
   ]
  },
  {
   "cell_type": "code",
   "execution_count": 20,
   "metadata": {},
   "outputs": [
    {
     "name": "stdout",
     "output_type": "stream",
     "text": [
      "hello world\n"
     ]
    }
   ],
   "source": [
    "print(str.lstrip()) #왼쪽 제거"
   ]
  },
  {
   "cell_type": "code",
   "execution_count": 21,
   "metadata": {},
   "outputs": [
    {
     "name": "stdout",
     "output_type": "stream",
     "text": [
      "hello world\n"
     ]
    }
   ],
   "source": [
    "print(str.rstrip()) #오른쪽 제거"
   ]
  },
  {
   "cell_type": "code",
   "execution_count": 22,
   "metadata": {},
   "outputs": [
    {
     "name": "stdout",
     "output_type": "stream",
     "text": [
      "2719.0\n"
     ]
    }
   ],
   "source": [
    "exp = '(203+705)*3-(30/6)'\n",
    "print(eval(exp))"
   ]
  },
  {
   "cell_type": "code",
   "execution_count": 23,
   "metadata": {},
   "outputs": [],
   "source": [
    "##### 예외 처리"
   ]
  },
  {
   "cell_type": "code",
   "execution_count": 28,
   "metadata": {},
   "outputs": [
    {
     "name": "stdout",
     "output_type": "stream",
     "text": [
      "0으로는 나눌수 없습니다.\n",
      "예외처리를 마친다.\n"
     ]
    }
   ],
   "source": [
    "try :\n",
    "    print(3/0)\n",
    "except :\n",
    "    print(\"0으로는 나눌수 없습니다.\")   #그냥 print(3/0)으로 쓰면 에러뜸(0안나눠지니까)\n",
    "else :\n",
    "    print('예외없이 성공적으로 실행') #에러가 안나면 else구문으로 print된다.\n",
    "finally :\n",
    "    print('예외처리를 마친다.')  #>> finally는 예외가 발생하거나 발생하지 않거나 무조건 나오는 식 "
   ]
  },
  {
   "cell_type": "code",
   "execution_count": 31,
   "metadata": {},
   "outputs": [
    {
     "name": "stdout",
     "output_type": "stream",
     "text": [
      "division by zero\n"
     ]
    }
   ],
   "source": [
    "try :\n",
    "    print(3/0)\n",
    "except Exception as e:  # 예외 처리 설명해줌\n",
    "    print(e)  \n",
    "    "
   ]
  },
  {
   "cell_type": "code",
   "execution_count": 38,
   "metadata": {},
   "outputs": [],
   "source": [
    "### lambda : 함수의 형태를 더욱 짧게 쓸 수 있도록 해주는 문법\n",
    "# map(): 다수의 원소에 대한 함수의 결과를 한번에 얻을 수 있도록 도와줌\n",
    "\n"
   ]
  },
  {
   "cell_type": "code",
   "execution_count": 36,
   "metadata": {},
   "outputs": [
    {
     "name": "stdout",
     "output_type": "stream",
     "text": [
      "3\n"
     ]
    }
   ],
   "source": [
    "add = lambda x,y : x+y\n",
    "print(add(1,2))"
   ]
  },
  {
   "cell_type": "code",
   "execution_count": 43,
   "metadata": {},
   "outputs": [
    {
     "ename": "TypeError",
     "evalue": "'list' object is not callable",
     "output_type": "error",
     "traceback": [
      "\u001b[1;31m---------------------------------------------------------------------------\u001b[0m",
      "\u001b[1;31mTypeError\u001b[0m                                 Traceback (most recent call last)",
      "\u001b[1;32m<ipython-input-43-b7d413ff2af9>\u001b[0m in \u001b[0;36m<module>\u001b[1;34m\u001b[0m\n\u001b[0;32m      3\u001b[0m \u001b[0mmy_function\u001b[0m \u001b[1;33m=\u001b[0m \u001b[1;32mlambda\u001b[0m \u001b[0ma\u001b[0m\u001b[1;33m,\u001b[0m\u001b[0mb\u001b[0m \u001b[1;33m:\u001b[0m \u001b[0ma\u001b[0m\u001b[1;33m+\u001b[0m\u001b[0mb\u001b[0m\u001b[1;33m\u001b[0m\u001b[1;33m\u001b[0m\u001b[0m\n\u001b[0;32m      4\u001b[0m \u001b[0mresult\u001b[0m \u001b[1;33m=\u001b[0m \u001b[0mmap\u001b[0m\u001b[1;33m(\u001b[0m\u001b[0mmy_function\u001b[0m\u001b[1;33m,\u001b[0m \u001b[0mlist_1\u001b[0m\u001b[1;33m,\u001b[0m \u001b[0mlist_2\u001b[0m\u001b[1;33m)\u001b[0m\u001b[1;33m\u001b[0m\u001b[1;33m\u001b[0m\u001b[0m\n\u001b[1;32m----> 5\u001b[1;33m \u001b[0mprint\u001b[0m\u001b[1;33m(\u001b[0m\u001b[0mlist\u001b[0m\u001b[1;33m(\u001b[0m\u001b[0mresult\u001b[0m\u001b[1;33m)\u001b[0m\u001b[1;33m)\u001b[0m\u001b[1;33m\u001b[0m\u001b[1;33m\u001b[0m\u001b[0m\n\u001b[0m",
      "\u001b[1;31mTypeError\u001b[0m: 'list' object is not callable"
     ]
    }
   ],
   "source": [
    "list_1 = [1,2,3,4,5]\n",
    "list_2 = [6,7,8,9,10]\n",
    "my_function = lambda a,b : a+b\n",
    "result = map(my_function, list_1, list_2)\n",
    "print(list(result))"
   ]
  },
  {
   "cell_type": "code",
   "execution_count": null,
   "metadata": {},
   "outputs": [],
   "source": []
  }
 ],
 "metadata": {
  "kernelspec": {
   "display_name": "Python 3",
   "language": "python",
   "name": "python3"
  },
  "language_info": {
   "codemirror_mode": {
    "name": "ipython",
    "version": 3
   },
   "file_extension": ".py",
   "mimetype": "text/x-python",
   "name": "python",
   "nbconvert_exporter": "python",
   "pygments_lexer": "ipython3",
   "version": "3.8.5"
  }
 },
 "nbformat": 4,
 "nbformat_minor": 4
}
