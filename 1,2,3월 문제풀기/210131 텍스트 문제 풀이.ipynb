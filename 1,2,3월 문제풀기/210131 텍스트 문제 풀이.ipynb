{
 "cells": [
  {
   "cell_type": "markdown",
   "metadata": {},
   "source": [
    "1.텍스트를 조각내어 그 텍스트에서 2번째 글자들을 가져와서 문장 만들기"
   ]
  },
  {
   "cell_type": "markdown",
   "metadata": {},
   "source": [
    "입력='오다가나 굼영고곰문 문아국수맛있다 난문고리를 가제갈옥희 감를글슴늠 감시를하지 구작함눔눅 감하지 북자주빛 곰화요일 고이 곰팅이'"
   ]
  },
  {
   "cell_type": "markdown",
   "metadata": {},
   "source": [
    "출력 =''<-말이 되는 말"
   ]
  },
  {
   "cell_type": "code",
   "execution_count": 7,
   "metadata": {},
   "outputs": [],
   "source": [
    "a= '오다가나 굼영고곰문 문아국수맛있다 난문고리를 가제갈옥희 감를글슴늠 감시를하지 구작함눔눅 감하지 북자주빛 곰화요일 고이 곰팅이'"
   ]
  },
  {
   "cell_type": "code",
   "execution_count": 8,
   "metadata": {},
   "outputs": [],
   "source": [
    "a=a.split(\" \")"
   ]
  },
  {
   "cell_type": "code",
   "execution_count": 9,
   "metadata": {},
   "outputs": [
    {
     "data": {
      "text/plain": [
       "['오다가나',\n",
       " '굼영고곰문',\n",
       " '문아국수맛있다',\n",
       " '난문고리를',\n",
       " '가제갈옥희',\n",
       " '감를글슴늠',\n",
       " '감시를하지',\n",
       " '구작함눔눅',\n",
       " '감하지',\n",
       " '북자주빛',\n",
       " '곰화요일',\n",
       " '고이',\n",
       " '곰팅이']"
      ]
     },
     "execution_count": 9,
     "metadata": {},
     "output_type": "execute_result"
    }
   ],
   "source": [
    "a"
   ]
  },
  {
   "cell_type": "code",
   "execution_count": 12,
   "metadata": {
    "scrolled": true
   },
   "outputs": [
    {
     "data": {
      "text/plain": [
       "'다영아문제를시작하자화이팅'"
      ]
     },
     "execution_count": 12,
     "metadata": {},
     "output_type": "execute_result"
    }
   ],
   "source": [
    "b=''   #문자가 비어있을 때(숫자가 0이랑 같은말이라고 생각하자)\n",
    "for i in range(len(a)):\n",
    "        b+= a[i][1] #문장으로 표현하고 싶을때 (한줄로 나타내고 싶을때)\n",
    "b"
   ]
  },
  {
   "cell_type": "markdown",
   "metadata": {},
   "source": [
    "2.잘못 입력한('.','+') 이메일 주소를 바꾸고 중복되지 않는 이메일 주소 갯수와 주소 출력하기\n"
   ]
  },
  {
   "cell_type": "markdown",
   "metadata": {},
   "source": [
    "입력: input= [\"test.email+alex@layone.com\",\"test.e.mail+alex@lay.one.com\",\"testemail+david@lay.one.com\",\"kangdayoung+1@lay.one.com\",\"sophia+2@lay.one.com\",\"sophia.2@layone.com\",\"kangdayoung.1@layone.com\"]"
   ]
  },
  {
   "cell_type": "markdown",
   "metadata": {},
   "source": [
    "출력: output = 4, [testemailalex@layone.com , testemaildavid@layone.com ,kangdayoung1@layone.com,sophia2@layone.com]"
   ]
  },
  {
   "cell_type": "code",
   "execution_count": 14,
   "metadata": {},
   "outputs": [],
   "source": [
    "email = [\"test.email+alex@layone.com\",\"test.e.mail+alex@lay.one.com\",\"testemail+david@lay.one.com\",\"kangdayoung+1@lay.one.com\",\"sophia+2@lay.one.com\",\"sophia.2@layone.com\",\"kangdayoung.1@layone.com\"]"
   ]
  },
  {
   "cell_type": "code",
   "execution_count": 15,
   "metadata": {
    "scrolled": false
   },
   "outputs": [
    {
     "data": {
      "text/plain": [
       "['test.email+alex@layone.com',\n",
       " 'test.e.mail+alex@lay.one.com',\n",
       " 'testemail+david@lay.one.com',\n",
       " 'kangdayoung+1@lay.one.com',\n",
       " 'sophia+2@lay.one.com',\n",
       " 'sophia.2@layone.com',\n",
       " 'kangdayoung.1@layone.com']"
      ]
     },
     "execution_count": 15,
     "metadata": {},
     "output_type": "execute_result"
    }
   ],
   "source": [
    "email"
   ]
  },
  {
   "cell_type": "code",
   "execution_count": 16,
   "metadata": {
    "scrolled": false
   },
   "outputs": [],
   "source": [
    "for e in range(len(email)):\n",
    "    email[e]= email[e].replace(\"+\",\"\")\n",
    "    email[e]= email[e][0:-4].replace(\".\",\"\") + email[e][-4:]"
   ]
  },
  {
   "cell_type": "code",
   "execution_count": 17,
   "metadata": {},
   "outputs": [
    {
     "data": {
      "text/plain": [
       "['testemailalex@layone.com',\n",
       " 'testemailalex@layone.com',\n",
       " 'testemaildavid@layone.com',\n",
       " 'kangdayoung1@layone.com',\n",
       " 'sophia2@layone.com',\n",
       " 'sophia2@layone.com',\n",
       " 'kangdayoung1@layone.com']"
      ]
     },
     "execution_count": 17,
     "metadata": {},
     "output_type": "execute_result"
    }
   ],
   "source": [
    "email"
   ]
  },
  {
   "cell_type": "code",
   "execution_count": 18,
   "metadata": {},
   "outputs": [],
   "source": [
    "new = []\n",
    "for w in range(len(email)):\n",
    "    if email[w] in new:\n",
    "        pass\n",
    "    else :\n",
    "        new.append(email[w])"
   ]
  },
  {
   "cell_type": "code",
   "execution_count": 22,
   "metadata": {},
   "outputs": [
    {
     "name": "stdout",
     "output_type": "stream",
     "text": [
      "4\n",
      "['testemailalex@layone.com', 'testemaildavid@layone.com', 'kangdayoung1@layone.com', 'sophia2@layone.com']\n"
     ]
    }
   ],
   "source": [
    "print(len(new))\n",
    "print(new)"
   ]
  },
  {
   "cell_type": "code",
   "execution_count": 118,
   "metadata": {},
   "outputs": [
    {
     "name": "stdout",
     "output_type": "stream",
     "text": [
      "testemailalex@layone.com\n",
      "testemaildavid@layone.com\n",
      "kangdayoung1@layone.com\n",
      "sophia2@layone.com\n",
      "sophia2@layone.com\n",
      "kangdayoung1@layone.com\n"
     ]
    },
    {
     "ename": "IndexError",
     "evalue": "list index out of range",
     "output_type": "error",
     "traceback": [
      "\u001b[1;31m---------------------------------------------------------------------------\u001b[0m",
      "\u001b[1;31mIndexError\u001b[0m                                Traceback (most recent call last)",
      "\u001b[1;32m<ipython-input-118-c44f2d2a8e8a>\u001b[0m in \u001b[0;36m<module>\u001b[1;34m\u001b[0m\n\u001b[0;32m      1\u001b[0m \u001b[1;32mfor\u001b[0m \u001b[0me\u001b[0m \u001b[1;32min\u001b[0m \u001b[0mrange\u001b[0m\u001b[1;33m(\u001b[0m\u001b[1;36m0\u001b[0m\u001b[1;33m,\u001b[0m\u001b[1;36m7\u001b[0m\u001b[1;33m)\u001b[0m\u001b[1;33m:\u001b[0m\u001b[1;33m\u001b[0m\u001b[1;33m\u001b[0m\u001b[0m\n\u001b[1;32m----> 2\u001b[1;33m     \u001b[1;32mif\u001b[0m \u001b[0memail\u001b[0m\u001b[1;33m[\u001b[0m\u001b[0me\u001b[0m\u001b[1;33m]\u001b[0m \u001b[1;33m!=\u001b[0m \u001b[0memail\u001b[0m\u001b[1;33m[\u001b[0m\u001b[1;36m0\u001b[0m\u001b[1;33m]\u001b[0m\u001b[1;33m:\u001b[0m\u001b[1;33m\u001b[0m\u001b[1;33m\u001b[0m\u001b[0m\n\u001b[0m\u001b[0;32m      3\u001b[0m         \u001b[0mprint\u001b[0m\u001b[1;33m(\u001b[0m\u001b[0memail\u001b[0m\u001b[1;33m[\u001b[0m\u001b[0me\u001b[0m\u001b[1;33m]\u001b[0m\u001b[1;33m)\u001b[0m\u001b[1;33m\u001b[0m\u001b[1;33m\u001b[0m\u001b[0m\n\u001b[0;32m      4\u001b[0m     \u001b[1;32melif\u001b[0m \u001b[0memail\u001b[0m\u001b[1;33m[\u001b[0m\u001b[0me\u001b[0m\u001b[1;33m]\u001b[0m \u001b[1;33m==\u001b[0m\u001b[0memail\u001b[0m\u001b[1;33m[\u001b[0m\u001b[1;36m1\u001b[0m\u001b[1;33m]\u001b[0m\u001b[1;33m:\u001b[0m\u001b[1;33m\u001b[0m\u001b[1;33m\u001b[0m\u001b[0m\n\u001b[0;32m      5\u001b[0m         \u001b[0mprint\u001b[0m\u001b[1;33m(\u001b[0m\u001b[0memail\u001b[0m\u001b[1;33m.\u001b[0m\u001b[0mpop\u001b[0m\u001b[1;33m(\u001b[0m\u001b[0me\u001b[0m\u001b[1;33m)\u001b[0m\u001b[1;33m)\u001b[0m\u001b[1;33m\u001b[0m\u001b[1;33m\u001b[0m\u001b[0m\n",
      "\u001b[1;31mIndexError\u001b[0m: list index out of range"
     ]
    }
   ],
   "source": [
    "# for e in range(0,7): \n",
    "#     if email[e] != email[0]:\n",
    "#         print(email[e])\n",
    "#     elif email[e] ==email[1]:\n",
    "#         print(email.pop(e))\n",
    "# #     elif email[e] != email[1]:\n",
    "# #         print(email[e])\n",
    "# #     elif email[e] != email[2]:\n",
    "# #         print(email[e])"
   ]
  },
  {
   "cell_type": "code",
   "execution_count": 59,
   "metadata": {},
   "outputs": [
    {
     "data": {
      "text/plain": [
       "'kangdayoung1'"
      ]
     },
     "execution_count": 59,
     "metadata": {},
     "output_type": "execute_result"
    }
   ],
   "source": [
    "emails = re.compile(r'([a-zA-Z0-9._%+-]+@[a-zA-Z0-9.-]+(\\.[a-zA-Z]{2,4}))')\n",
    "for e in range(len(email)):\n",
    "    if email[e] == emails:\n",
    "        \n",
    "#email 이 emails 정규식 형태와 같다면 print 아니면 replace하고 프린트한다\n"
   ]
  },
  {
   "cell_type": "markdown",
   "metadata": {},
   "source": [
    "3.끝말잇기 만들기"
   ]
  },
  {
   "cell_type": "markdown",
   "metadata": {},
   "source": [
    "입력: input=['강아지','품사','지하실','화장품','장사꾼','압록강','실내화','사장']"
   ]
  },
  {
   "cell_type": "markdown",
   "metadata": {},
   "source": [
    "출력:[압록강 강아지 지하실 실내화 화장품 품사 사장 장사꾼]"
   ]
  },
  {
   "cell_type": "code",
   "execution_count": 69,
   "metadata": {},
   "outputs": [],
   "source": [
    "word = ['강아지','품사','지하실','화장품','장사꾼','압록강','실내화','사장']"
   ]
  },
  {
   "cell_type": "code",
   "execution_count": 70,
   "metadata": {
    "scrolled": false
   },
   "outputs": [
    {
     "data": {
      "text/plain": [
       "'지'"
      ]
     },
     "execution_count": 70,
     "metadata": {},
     "output_type": "execute_result"
    }
   ],
   "source": [
    "word[0][2]"
   ]
  },
  {
   "cell_type": "code",
   "execution_count": null,
   "metadata": {},
   "outputs": [],
   "source": [
    "# 마지막 글자가 다음글자의 첫글자와 같으면 짝꿍이 된다."
   ]
  },
  {
   "cell_type": "code",
   "execution_count": null,
   "metadata": {},
   "outputs": [],
   "source": [
    "def atata(inputt,answer)\n",
    "if len(inputt)==0:\n",
    "    pass\n",
    "else:\n",
    "    for i in range(len(answer)):\n",
    "        if answer[i] in inputt:\n",
    "            inputt.remove(answer[i])\n",
    "\n",
    "def move(answer,inputt):\n",
    "    for i in range(len(inputt)):\n",
    "        if answer[len(answer)-1][-1] ==inputt[i][0]:\n",
    "            answer.append(inputt[i])\n",
    "            pass\n",
    "first=[]\n",
    "last=[]\n",
    "start=''\n",
    "for i in inputt:\n",
    "    last.append(i[-1])\n",
    "    first.append(i[0])\n",
    "for i in range(len(first)):\n",
    "    if first[i] not in last:\n",
    "        start=inputt[i]\n",
    "answer=[]\n",
    "answer.append(start)\n",
    "r =len(inputt)-1\n",
    "for i in range(r):\n",
    "    move(answer,inputt)\n",
    "    remove_a(answer,inputt)\n",
    "print(answer)  "
   ]
  },
  {
   "cell_type": "code",
   "execution_count": null,
   "metadata": {},
   "outputs": [],
   "source": [
    "def remove_a(answer,inputt):\n",
    "    if len(inputt)==0:\n",
    "        pass\n",
    "    else:\n",
    "        for i in range(len(answer)):\n",
    "            if answer[i] in inputt:\n",
    "                inputt.remove(answer[i])\n",
    "def move(answer,inputt):\n",
    "    for i in range(len(inputt)):\n",
    "        if answer[len(answer)-1][-1] ==inputt[i][0]:\n",
    "            answer.append(inputt[i])\n",
    "            pass\n",
    "first=[]\n",
    "last=[]\n",
    "start=''\n",
    "for i in inputt:\n",
    "    last.append(i[-1])\n",
    "    first.append(i[0])\n",
    "for i in range(len(first)):\n",
    "    if first[i] not in last:\n",
    "        start=inputt[i]\n",
    "answer=[]\n",
    "answer.append(start)\n",
    "remove_a(answer,inputt)\n",
    "r =len(inputt)-1\n",
    "for i in range(r):\n",
    "    move(answer,inputt)\n",
    "    remove_a(answer,inputt)\n",
    "print(answer)  "
   ]
  },
  {
   "cell_type": "markdown",
   "metadata": {},
   "source": [
    "4.한글자 한글만 추출하기"
   ]
  },
  {
   "cell_type": "markdown",
   "metadata": {},
   "source": [
    "입력 : ['asda','222','#%$$','%','t2','강','rweq','박소담','다다담','다','78954','yoyoyo','영','qweqe22','qwewqeq','qweqs22','1212','고','dqdq','생','1523','많','qweqeas','고고고고','213123','았','강만','어']"
   ]
  },
  {
   "cell_type": "markdown",
   "metadata": {},
   "source": [
    "출력 : 비밀"
   ]
  },
  {
   "cell_type": "code",
   "execution_count": 24,
   "metadata": {},
   "outputs": [],
   "source": [
    "one =  ['asda','222','#%$$','%','t2','강','rweq','박소담','다다담','다','78954','yoyoyo','영','qweqe22','qwewqeq','qweqs22','1212','고','dqdq','생','1523','많','qweqeas','고고고고','213123','았','강만','어']"
   ]
  },
  {
   "cell_type": "code",
   "execution_count": 28,
   "metadata": {
    "scrolled": true
   },
   "outputs": [
    {
     "data": {
      "text/plain": [
       "'강다영고생많았어'"
      ]
     },
     "execution_count": 28,
     "metadata": {},
     "output_type": "execute_result"
    }
   ],
   "source": [
    "p=''\n",
    "for n in range(len(one)):\n",
    "    if len(one[n])==1:\n",
    "        p +=str(one[n].replace(\"%\",\"\"))\n",
    "p"
   ]
  },
  {
   "cell_type": "markdown",
   "metadata": {},
   "source": [
    "5.숫자로 입력해서 문자로 출력하기(input)"
   ]
  },
  {
   "cell_type": "markdown",
   "metadata": {},
   "source": [
    "입력: 다영이가 아무 숫자나 적는 곳 but 예시 ->[숫자를 입력해주세요 : 22],[숫자를 입력해주세요 : 11111],[숫자를 입력해주세요 : 2323]"
   ]
  },
  {
   "cell_type": "markdown",
   "metadata": {},
   "source": [
    "출력:22111112323"
   ]
  },
  {
   "cell_type": "code",
   "execution_count": 88,
   "metadata": {},
   "outputs": [
    {
     "name": "stdout",
     "output_type": "stream",
     "text": [
      "숫자를 입력해주세요 : 22\n",
      "숫자를 입력해주세요 : 1111\n",
      "숫자를 입력해주세요 : 2323\n"
     ]
    },
    {
     "data": {
      "text/plain": [
       "'2211112323'"
      ]
     },
     "execution_count": 88,
     "metadata": {},
     "output_type": "execute_result"
    }
   ],
   "source": [
    "q = input(\"숫자를 입력해주세요 : \")  #input으로 나오는 건 다 문자다\n",
    "w = input(\"숫자를 입력해주세요 : \")\n",
    "r = input(\"숫자를 입력해주세요 : \")\n",
    "q+w+r"
   ]
  },
  {
   "cell_type": "markdown",
   "metadata": {},
   "source": [
    "6.문자로 입력해서 숫자로 덧셈하기(input)"
   ]
  },
  {
   "cell_type": "markdown",
   "metadata": {},
   "source": [
    "입력: 다영이가 아무 숫자나 적는 곳 but 예시 ->[문자를 입력해주세요 : 삼삼],[문자를 입력해주세요 : 오오],[문자를 입력해주세요 : 일일]"
   ]
  },
  {
   "cell_type": "markdown",
   "metadata": {},
   "source": [
    "출력: 99"
   ]
  },
  {
   "cell_type": "code",
   "execution_count": 119,
   "metadata": {},
   "outputs": [
    {
     "name": "stdout",
     "output_type": "stream",
     "text": [
      "문자를 입력해주세요 : 삼삼\n",
      "문자를 입력해주세요 : 오오\n",
      "문자를 입력해주세요 : 일일\n"
     ]
    }
   ],
   "source": [
    "l = input(\"문자를 입력해주세요 : \")\n",
    "k = input(\"문자를 입력해주세요 : \")\n",
    "h = input(\"문자를 입력해주세요 : \")"
   ]
  },
  {
   "cell_type": "code",
   "execution_count": 127,
   "metadata": {},
   "outputs": [],
   "source": [
    "new_l = list(l)\n",
    "new_k = list(k)\n",
    "new_h = list(h)"
   ]
  },
  {
   "cell_type": "code",
   "execution_count": 134,
   "metadata": {},
   "outputs": [
    {
     "ename": "AttributeError",
     "evalue": "'list' object has no attribute 'split'",
     "output_type": "error",
     "traceback": [
      "\u001b[1;31m---------------------------------------------------------------------------\u001b[0m",
      "\u001b[1;31mAttributeError\u001b[0m                            Traceback (most recent call last)",
      "\u001b[1;32m<ipython-input-134-09560ba2c665>\u001b[0m in \u001b[0;36m<module>\u001b[1;34m\u001b[0m\n\u001b[1;32m----> 1\u001b[1;33m \u001b[0mnew_l\u001b[0m\u001b[1;33m.\u001b[0m\u001b[0msplit\u001b[0m\u001b[1;33m(\u001b[0m\u001b[1;34m\",\"\u001b[0m\u001b[1;33m)\u001b[0m\u001b[1;33m\u001b[0m\u001b[1;33m\u001b[0m\u001b[0m\n\u001b[0m",
      "\u001b[1;31mAttributeError\u001b[0m: 'list' object has no attribute 'split'"
     ]
    }
   ],
   "source": [
    "new_l.split(\",\") # 리스트는 split 안된다.!!!!!!!!"
   ]
  },
  {
   "cell_type": "code",
   "execution_count": 132,
   "metadata": {},
   "outputs": [
    {
     "ename": "AttributeError",
     "evalue": "'list' object has no attribute 'split'",
     "output_type": "error",
     "traceback": [
      "\u001b[1;31m---------------------------------------------------------------------------\u001b[0m",
      "\u001b[1;31mAttributeError\u001b[0m                            Traceback (most recent call last)",
      "\u001b[1;32m<ipython-input-132-154b8d987a76>\u001b[0m in \u001b[0;36m<module>\u001b[1;34m\u001b[0m\n\u001b[1;32m----> 1\u001b[1;33m \u001b[0ma\u001b[0m\u001b[1;33m,\u001b[0m\u001b[0mb\u001b[0m\u001b[1;33m=\u001b[0m\u001b[0mnew_l\u001b[0m\u001b[1;33m.\u001b[0m\u001b[0msplit\u001b[0m\u001b[1;33m(\u001b[0m\u001b[1;34m\",\"\u001b[0m\u001b[1;33m)\u001b[0m\u001b[1;33m\u001b[0m\u001b[1;33m\u001b[0m\u001b[0m\n\u001b[0m",
      "\u001b[1;31mAttributeError\u001b[0m: 'list' object has no attribute 'split'"
     ]
    }
   ],
   "source": [
    "a,b=new_l.split(\",\")"
   ]
  },
  {
   "cell_type": "code",
   "execution_count": null,
   "metadata": {},
   "outputs": [],
   "source": [
    "a= new_l[0]*10 + new_l[1]"
   ]
  },
  {
   "cell_type": "code",
   "execution_count": 129,
   "metadata": {},
   "outputs": [
    {
     "name": "stdout",
     "output_type": "stream",
     "text": [
      "삼 오\n",
      "삼 오\n"
     ]
    }
   ],
   "source": [
    "for l,k in zip(new_l,new_k):\n",
    "    print(l,k)"
   ]
  },
  {
   "cell_type": "code",
   "execution_count": 122,
   "metadata": {},
   "outputs": [],
   "source": [
    "dic = {'영':0, '일':1, '이':2}"
   ]
  },
  {
   "cell_type": "code",
   "execution_count": 124,
   "metadata": {},
   "outputs": [
    {
     "ename": "NameError",
     "evalue": "name '일' is not defined",
     "output_type": "error",
     "traceback": [
      "\u001b[1;31m---------------------------------------------------------------------------\u001b[0m",
      "\u001b[1;31mNameError\u001b[0m                                 Traceback (most recent call last)",
      "\u001b[1;32m<ipython-input-124-d021bf8c7025>\u001b[0m in \u001b[0;36m<module>\u001b[1;34m\u001b[0m\n\u001b[1;32m----> 1\u001b[1;33m \u001b[0m일\u001b[0m\u001b[1;33m\u001b[0m\u001b[1;33m\u001b[0m\u001b[0m\n\u001b[0m",
      "\u001b[1;31mNameError\u001b[0m: name '일' is not defined"
     ]
    }
   ],
   "source": [
    "일"
   ]
  },
  {
   "cell_type": "code",
   "execution_count": null,
   "metadata": {},
   "outputs": [],
   "source": [
    "t1= input('문자를 입력해주세요 : ')  ### 삼삼\n",
    "t2= input('문자를 입력해주세요 : ')  ### 오오 \n",
    "t3= input('문자를 입력해주세요 : ')  ### 일일\n",
    "list1=['영','일','이','삼','사','오','육','칠','팔','구']\n",
    "def transH(t,list1):\n",
    "    a=0\n",
    "    for i in range(len(t)):\n",
    "        if t[i] in list1: \n",
    "            a=a*10+list1.index(t[i]) # a 10의 자리 만들기\n",
    "    return a\n",
    "new_t1=int(transH(t1,list1))\n",
    "new_t2=int(transH(t2,list1))\n",
    "new_t3=int(transH(t3,list1))\n",
    "answer=new_t1+new_t2+new_t3\n",
    "print(answer)"
   ]
  },
  {
   "cell_type": "code",
   "execution_count": null,
   "metadata": {},
   "outputs": [],
   "source": [
    "# a=0\n",
    "# for i in range(len(t1)):\n",
    "#     if t[0]=삼 in list1:\n",
    "#         a = a*10 + {list1.index(t[0])}>> 3\n",
    "        "
   ]
  },
  {
   "cell_type": "markdown",
   "metadata": {},
   "source": [
    "7.값과 인덱스 같이 출력하기"
   ]
  },
  {
   "cell_type": "markdown",
   "metadata": {},
   "source": [
    "입력: ['영','일','이','삼','사','오']"
   ]
  },
  {
   "cell_type": "markdown",
   "metadata": {},
   "source": [
    "출력: index : 0 , value: '영' ~~(생략)"
   ]
  },
  {
   "cell_type": "code",
   "execution_count": 86,
   "metadata": {},
   "outputs": [],
   "source": [
    "z = ['영','일','이','삼','사','오']"
   ]
  },
  {
   "cell_type": "code",
   "execution_count": 87,
   "metadata": {},
   "outputs": [
    {
     "name": "stdout",
     "output_type": "stream",
     "text": [
      "(0, '영')\n",
      "(1, '일')\n",
      "(2, '이')\n",
      "(3, '삼')\n",
      "(4, '사')\n",
      "(5, '오')\n"
     ]
    }
   ],
   "source": [
    "for t in enumerate(z):\n",
    "    print(t)"
   ]
  },
  {
   "cell_type": "code",
   "execution_count": null,
   "metadata": {},
   "outputs": [],
   "source": []
  }
 ],
 "metadata": {
  "kernelspec": {
   "display_name": "Python 3",
   "language": "python",
   "name": "python3"
  },
  "language_info": {
   "codemirror_mode": {
    "name": "ipython",
    "version": 3
   },
   "file_extension": ".py",
   "mimetype": "text/x-python",
   "name": "python",
   "nbconvert_exporter": "python",
   "pygments_lexer": "ipython3",
   "version": "3.8.5"
  }
 },
 "nbformat": 4,
 "nbformat_minor": 4
}
