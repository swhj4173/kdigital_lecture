{
 "cells": [
  {
   "cell_type": "code",
   "execution_count": 10,
   "metadata": {},
   "outputs": [],
   "source": [
    "import pyautogui\n",
    "import subprocess\n",
    "from time import sleep\n",
    "#pyautogui.mouseInfo()\n",
    "sleep(5)\n",
    "subprocess.Popen([r\"C:\\Users\\687\\AppData\\Roaming\\Zoom\\bin\\Zoom.exe\"])\n",
    "sleep(3)\n",
    "pyautogui.click(961,520,duration=1)\n",
    "sleep(3)\n",
    "pyautogui.click(838,471,duration=1)\n",
    "pyautogui.write(\"4540269850\")\n",
    "pyautogui.click(986,713,duration=1)\n",
    "sleep(2)\n",
    "pyautogui.click(816,467,duration=1)\n",
    "pyautogui.write(\"asiae5\")\n",
    "pyautogui.click(985,705,duration=1)\n",
    "sleep(5)\n",
    "pyautogui.hotkey('alt', 'f')\n",
    "sleep(1)\n",
    "pyautogui.hotkey('alt', 'a')\n",
    "sleep(1)\n",
    "pyautogui.hotkey('alt', 'v')"
   ]
  },
  {
   "cell_type": "code",
   "execution_count": 1,
   "metadata": {},
   "outputs": [
    {
     "name": "stdout",
     "output_type": "stream",
     "text": [
      "Requirement already satisfied: pyautogui in c:\\users\\687\\anaconda3\\lib\\site-packages (0.9.52)\n",
      "Requirement already satisfied: pygetwindow>=0.0.5 in c:\\users\\687\\anaconda3\\lib\\site-packages (from pyautogui) (0.0.9)\n",
      "Requirement already satisfied: pymsgbox in c:\\users\\687\\anaconda3\\lib\\site-packages (from pyautogui) (1.0.9)\n",
      "Requirement already satisfied: PyTweening>=1.0.1 in c:\\users\\687\\anaconda3\\lib\\site-packages (from pyautogui) (1.0.3)\n",
      "Requirement already satisfied: pyscreeze>=0.1.21 in c:\\users\\687\\anaconda3\\lib\\site-packages (from pyautogui) (0.1.26)\n",
      "Requirement already satisfied: mouseinfo in c:\\users\\687\\anaconda3\\lib\\site-packages (from pyautogui) (0.1.3)\n",
      "Requirement already satisfied: pyrect in c:\\users\\687\\anaconda3\\lib\\site-packages (from pygetwindow>=0.0.5->pyautogui) (0.1.4)\n",
      "Requirement already satisfied: Pillow>=6.2.1; python_version == \"3.8\" in c:\\users\\687\\anaconda3\\lib\\site-packages (from pyscreeze>=0.1.21->pyautogui) (8.0.1)\n",
      "Requirement already satisfied: pyperclip in c:\\users\\687\\anaconda3\\lib\\site-packages (from mouseinfo->pyautogui) (1.8.1)\n"
     ]
    }
   ],
   "source": []
  },
  {
   "cell_type": "code",
   "execution_count": 12,
   "metadata": {},
   "outputs": [
    {
     "name": "stdout",
     "output_type": "stream",
     "text": [
      "Requirement already satisfied: pyinstaller in c:\\users\\687\\anaconda3\\lib\\site-packages (4.1)\n",
      "Requirement already satisfied: pywin32-ctypes>=0.2.0; sys_platform == \"win32\" in c:\\users\\687\\anaconda3\\lib\\site-packages (from pyinstaller) (0.2.0)\n",
      "Requirement already satisfied: pyinstaller-hooks-contrib>=2020.6 in c:\\users\\687\\anaconda3\\lib\\site-packages (from pyinstaller) (2020.11)\n",
      "Requirement already satisfied: setuptools in c:\\users\\687\\anaconda3\\lib\\site-packages (from pyinstaller) (50.3.1.post20201107)\n",
      "Requirement already satisfied: pefile>=2017.8.1; sys_platform == \"win32\" in c:\\users\\687\\anaconda3\\lib\\site-packages (from pyinstaller) (2019.4.18)\n",
      "Requirement already satisfied: altgraph in c:\\users\\687\\anaconda3\\lib\\site-packages (from pyinstaller) (0.17)\n",
      "Requirement already satisfied: future in c:\\users\\687\\anaconda3\\lib\\site-packages (from pefile>=2017.8.1; sys_platform == \"win32\"->pyinstaller) (0.18.2)\n"
     ]
    }
   ],
   "source": []
  },
  {
   "cell_type": "code",
   "execution_count": 13,
   "metadata": {},
   "outputs": [
    {
     "ename": "SyntaxError",
     "evalue": "invalid syntax (<ipython-input-13-a40c7703f7e8>, line 1)",
     "output_type": "error",
     "traceback": [
      "\u001b[1;36m  File \u001b[1;32m\"<ipython-input-13-a40c7703f7e8>\"\u001b[1;36m, line \u001b[1;32m1\u001b[0m\n\u001b[1;33m    pyinstaller -w Study.py\u001b[0m\n\u001b[1;37m                   ^\u001b[0m\n\u001b[1;31mSyntaxError\u001b[0m\u001b[1;31m:\u001b[0m invalid syntax\n"
     ]
    }
   ],
   "source": [
    "pyinstaller -w Study.py"
   ]
  },
  {
   "cell_type": "code",
   "execution_count": null,
   "metadata": {},
   "outputs": [],
   "source": []
  }
 ],
 "metadata": {
  "kernelspec": {
   "display_name": "Python 3",
   "language": "python",
   "name": "python3"
  },
  "language_info": {
   "codemirror_mode": {
    "name": "ipython",
    "version": 3
   },
   "file_extension": ".py",
   "mimetype": "text/x-python",
   "name": "python",
   "nbconvert_exporter": "python",
   "pygments_lexer": "ipython3",
   "version": "3.8.5"
  }
 },
 "nbformat": 4,
 "nbformat_minor": 4
}
