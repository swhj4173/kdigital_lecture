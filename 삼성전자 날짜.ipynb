{
 "cells": [
  {
   "cell_type": "code",
   "execution_count": 2,
   "metadata": {},
   "outputs": [],
   "source": [
    "import requests #서버로 요청\n",
    "from bs4 import BeautifulSoup #beautifulsoup4를 사용한다\n",
    "import re #정규표현식사용하자\n",
    "#헤더를 쓰는 이유는 컴퓨터가 아닌 사람이라고 인식시키기 위해(접속이 막힐 때)"
   ]
  },
  {
   "cell_type": "code",
   "execution_count": 50,
   "metadata": {
    "scrolled": true
   },
   "outputs": [
    {
     "name": "stdout",
     "output_type": "stream",
     "text": [
      "끝\n"
     ]
    }
   ],
   "source": [
    "import csv\n",
    "file = open(\"samsung.csv\",mode=\"w\",encoding=\"utf-8\",newline=\"\") #newline은 붙여서 쓰지 않기 위해서 씀(enter느낌)\n",
    "writer = csv.writer(file)\n",
    "writer.writerow(['날짜','가격'])\n",
    "for e in range(1,11):\n",
    "    url = 'https://finance.naver.com/item/sise_day.nhn?code=005930&page='+str(e) \n",
    "    #print(url)\n",
    "    headers = {'User-Agent':'Mozilla/5.0 (Windows NT 6.3; Win64; x64) AppleWebKit/537.36 (KHTML, like Gecko) Chrome/63.0.3239.132 Safari/537.36'}\n",
    "    response = requests.get(url,headers=headers)\n",
    "    soup = BeautifulSoup(response.text,\"html.parser\")\n",
    "    tr = soup.select(\".type2 tr\")\n",
    "    for i in range(1,len(tr)-1):\n",
    "        if tr[i].select(\"td\")[0].text:\n",
    "            a = tr[i].select(\"td\")[0].text\n",
    "            b = tr[i].select(\"td\")[1].text\n",
    "            \n",
    "            writer.writerow([a,b])\n",
    "file.close()\n",
    "print('끝')"
   ]
  },
  {
   "cell_type": "code",
   "execution_count": 39,
   "metadata": {},
   "outputs": [
    {
     "name": "stdout",
     "output_type": "stream",
     "text": [
      "2020.08.25\n",
      "56,400\n",
      "2020.08.24\n",
      "56,100\n",
      "2020.08.21\n",
      "55,900\n",
      "2020.08.20\n",
      "55,400\n",
      "2020.08.19\n",
      "57,800\n",
      "2020.08.18\n",
      "58,400\n",
      "2020.08.14\n",
      "58,000\n",
      "2020.08.13\n",
      "58,700\n",
      "2020.08.12\n",
      "59,000\n",
      "2020.08.11\n",
      "58,200\n"
     ]
    }
   ],
   "source": [
    "import csv\n",
    "file = open(\"samsung.csv\",mode=\"w\",encoding=\"utf-8\",newline=\"\") #newline은 붙여서 쓰지 않기 위해서 씀(enter느낌)\n",
    "writer = csv.write(file)"
   ]
  },
  {
   "cell_type": "code",
   "execution_count": null,
   "metadata": {},
   "outputs": [],
   "source": [
    "td = soup.select(\"\")"
   ]
  }
 ],
 "metadata": {
  "kernelspec": {
   "display_name": "Python 3",
   "language": "python",
   "name": "python3"
  },
  "language_info": {
   "codemirror_mode": {
    "name": "ipython",
    "version": 3
   },
   "file_extension": ".py",
   "mimetype": "text/x-python",
   "name": "python",
   "nbconvert_exporter": "python",
   "pygments_lexer": "ipython3",
   "version": "3.8.5"
  }
 },
 "nbformat": 4,
 "nbformat_minor": 4
}
